{
  "nbformat": 4,
  "nbformat_minor": 0,
  "metadata": {
    "colab": {
      "provenance": []
    },
    "kernelspec": {
      "name": "python3",
      "display_name": "Python 3"
    },
    "language_info": {
      "name": "python"
    }
  },
  "cells": [
    {
      "cell_type": "markdown",
      "source": [
        "Lucas Viñals de Luna\n",
        "\n",
        "Práctica 4 - Función \"Picos\" y Función Rastringin"
      ],
      "metadata": {
        "id": "BorFbtWl-r_9"
      }
    },
    {
      "cell_type": "markdown",
      "source": [
        "#Enunciado y explicación del problema"
      ],
      "metadata": {
        "id": "IDQs1Uae7Lh8"
      }
    },
    {
      "cell_type": "markdown",
      "source": [
        "### 1. Encontrar los máximos de la función \"picos\"\n",
        "\n",
        "Primero, definimos la función \"picos\":\n",
        "\n",
        "$$\n",
        "z = f(x, y) = 3(1 - x)^2 e^{-x^2 - (y + 1)^2} - 10(5x - x^3 - y^5)e^{-x^2 - y^2} - \\frac{1}{3} e^{-(x + 1)^2 - y^2}\n",
        "$$\n",
        "\n",
        "\n",
        "Vamos a utilizar un algoritmo genético para encontrar los máximos en el dominio \\([x, y] \\in [-100, 100]\\).\n",
        "\n",
        "### 2. Función de Rastrigin\n",
        "\n",
        "La función de Rastrigin está definida como:\n",
        "\n",
        "$$\n",
        "f(x) = A \\cdot n + \\sum_{i=1}^{n} \\left[ x_i^2 - A \\cdot \\cos(2 \\pi x_i) \\right]\n",
        "$$\n",
        "\n",
        "Donde \\( A = 10 \\) y \\( x_i \\in [-5.12, 5.12] \\). Implementaremos esta función en Python y la minimizaremos para \\( n = 10 \\).\n",
        "\n",
        "Compara el funcionamiento del Algoritmo Genético (GA) para cruce con un punto con cruce con dos puntos en ambos problemas."
      ],
      "metadata": {
        "id": "HxefnxZ57IcT"
      }
    },
    {
      "cell_type": "code",
      "execution_count": 1,
      "metadata": {
        "colab": {
          "base_uri": "https://localhost:8080/"
        },
        "id": "AK2DSC3vsqtG",
        "outputId": "cafa88ae-8fa8-4d36-c88f-87a15d11624d"
      },
      "outputs": [
        {
          "output_type": "stream",
          "name": "stdout",
          "text": [
            "Requirement already satisfied: numpy in /usr/local/lib/python3.10/dist-packages (1.25.2)\n",
            "Requirement already satisfied: matplotlib in /usr/local/lib/python3.10/dist-packages (3.7.1)\n",
            "Collecting deap\n",
            "  Downloading deap-1.4.1-cp310-cp310-manylinux_2_5_x86_64.manylinux1_x86_64.manylinux_2_17_x86_64.manylinux2014_x86_64.whl (135 kB)\n",
            "\u001b[2K     \u001b[90m━━━━━━━━━━━━━━━━━━━━━━━━━━━━━━━━━━━━━━━━\u001b[0m \u001b[32m135.4/135.4 kB\u001b[0m \u001b[31m1.7 MB/s\u001b[0m eta \u001b[36m0:00:00\u001b[0m\n",
            "\u001b[?25hRequirement already satisfied: contourpy>=1.0.1 in /usr/local/lib/python3.10/dist-packages (from matplotlib) (1.2.1)\n",
            "Requirement already satisfied: cycler>=0.10 in /usr/local/lib/python3.10/dist-packages (from matplotlib) (0.12.1)\n",
            "Requirement already satisfied: fonttools>=4.22.0 in /usr/local/lib/python3.10/dist-packages (from matplotlib) (4.53.0)\n",
            "Requirement already satisfied: kiwisolver>=1.0.1 in /usr/local/lib/python3.10/dist-packages (from matplotlib) (1.4.5)\n",
            "Requirement already satisfied: packaging>=20.0 in /usr/local/lib/python3.10/dist-packages (from matplotlib) (24.1)\n",
            "Requirement already satisfied: pillow>=6.2.0 in /usr/local/lib/python3.10/dist-packages (from matplotlib) (9.4.0)\n",
            "Requirement already satisfied: pyparsing>=2.3.1 in /usr/local/lib/python3.10/dist-packages (from matplotlib) (3.1.2)\n",
            "Requirement already satisfied: python-dateutil>=2.7 in /usr/local/lib/python3.10/dist-packages (from matplotlib) (2.8.2)\n",
            "Requirement already satisfied: six>=1.5 in /usr/local/lib/python3.10/dist-packages (from python-dateutil>=2.7->matplotlib) (1.16.0)\n",
            "Installing collected packages: deap\n",
            "Successfully installed deap-1.4.1\n"
          ]
        }
      ],
      "source": [
        "pip install numpy matplotlib deap\n"
      ]
    },
    {
      "cell_type": "code",
      "source": [
        "import numpy as np\n",
        "import matplotlib.pyplot as plt\n",
        "from deap import base, creator, tools, algorithms\n",
        "\n",
        "# Definición de la función picos\n",
        "def peaks_function(individual):\n",
        "    x, y = individual\n",
        "    return 3*(1 - x)**2 * np.exp(-(x**2) - (y + 1)**2) - 10 * (x/5 - x**3 - y**5) * np.exp(-x**2 - y**2) - (1/3) * np.exp(-(x + 1)**2 - y**2),\n",
        "\n",
        "# Definición de la función de Rastrigin\n",
        "def rastrigin_function(individual):\n",
        "    A = 10\n",
        "    n = len(individual)\n",
        "    return A * n + sum((x**2 - A * np.cos(2 * np.pi * x)) for x in individual),\n",
        "\n",
        "# Parámetros del algoritmo genético\n",
        "POPULATION_SIZE = 100\n",
        "CROSSOVER_PROB = 0.7\n",
        "MUTATION_PROB = 0.2\n",
        "GENERATIONS = 100\n",
        "\n",
        "# Definir el problema para maximizar la función picos\n",
        "creator.create(\"FitnessMax\", base.Fitness, weights=(1.0,))\n",
        "creator.create(\"Individual\", list, fitness=creator.FitnessMax)\n",
        "\n",
        "# Definir el problema para minimizar la función de Rastrigin\n",
        "creator.create(\"FitnessMin\", base.Fitness, weights=(-1.0,))\n",
        "creator.create(\"IndividualRastrigin\", list, fitness=creator.FitnessMin)\n",
        "\n",
        "toolbox = base.Toolbox()\n",
        "toolbox.register(\"attr_float\", np.random.uniform, -100, 100)\n",
        "toolbox.register(\"individual\", tools.initRepeat, creator.Individual, toolbox.attr_float, 2)\n",
        "toolbox.register(\"population\", tools.initRepeat, list, toolbox.individual)\n",
        "toolbox.register(\"mate\", tools.cxTwoPoint)\n",
        "toolbox.register(\"mutate\", tools.mutGaussian, mu=0, sigma=1, indpb=0.2)\n",
        "toolbox.register(\"select\", tools.selTournament, tournsize=3)\n",
        "toolbox.register(\"evaluate\", peaks_function)\n",
        "\n",
        "# Algoritmo genético para la función picos\n",
        "def run_ga_peaks():\n",
        "    population = toolbox.population(n=POPULATION_SIZE)\n",
        "    stats = tools.Statistics(lambda ind: ind.fitness.values)\n",
        "    stats.register(\"avg\", np.mean)\n",
        "    stats.register(\"std\", np.std)\n",
        "    stats.register(\"min\", np.min)\n",
        "    stats.register(\"max\", np.max)\n",
        "\n",
        "    population, logbook = algorithms.eaSimple(population, toolbox, cxpb=CROSSOVER_PROB, mutpb=MUTATION_PROB, ngen=GENERATIONS, stats=stats, verbose=True)\n",
        "\n",
        "    return population, logbook\n",
        "\n",
        "# Función Rastrigin: parámetros y definición de la caja de herramientas\n",
        "toolbox_rastrigin = base.Toolbox()\n",
        "toolbox_rastrigin.register(\"attr_float\", np.random.uniform, -5.12, 5.12)\n",
        "toolbox_rastrigin.register(\"individual\", tools.initRepeat, creator.IndividualRastrigin, toolbox_rastrigin.attr_float, 10)\n",
        "toolbox_rastrigin.register(\"population\", tools.initRepeat, list, toolbox_rastrigin.individual)\n",
        "toolbox_rastrigin.register(\"mate\", tools.cxTwoPoint)\n",
        "toolbox_rastrigin.register(\"mutate\", tools.mutGaussian, mu=0, sigma=1, indpb=0.2)\n",
        "toolbox_rastrigin.register(\"select\", tools.selTournament, tournsize=3)\n",
        "toolbox_rastrigin.register(\"evaluate\", rastrigin_function)\n",
        "\n",
        "# Algoritmo genético para la función de Rastrigin\n",
        "def run_ga_rastrigin():\n",
        "    population = toolbox_rastrigin.population(n=POPULATION_SIZE)\n",
        "    stats = tools.Statistics(lambda ind: ind.fitness.values)\n",
        "    stats.register(\"avg\", np.mean)\n",
        "    stats.register(\"std\", np.std)\n",
        "    stats.register(\"min\", np.min)\n",
        "    stats.register(\"max\", np.max)\n",
        "\n",
        "    population, logbook = algorithms.eaSimple(population, toolbox_rastrigin, cxpb=CROSSOVER_PROB, mutpb=MUTATION_PROB, ngen=GENERATIONS, stats=stats, verbose=True)\n",
        "\n",
        "    return population, logbook\n",
        "\n",
        "# Ejecución de los algoritmos\n",
        "if __name__ == \"__main__\":\n",
        "    # Ejecución del GA para la función picos\n",
        "    print(\"Ejecutando GA para la función picos...\")\n",
        "    pop_peaks, log_peaks = run_ga_peaks()\n",
        "\n",
        "    # Ejecución del GA para la función de Rastrigin\n",
        "    print(\"Ejecutando GA para la función de Rastrigin...\")\n",
        "    pop_rastrigin, log_rastrigin = run_ga_rastrigin()\n",
        "\n",
        "    # Resultados\n",
        "    best_ind_peaks = tools.selBest(pop_peaks, 1)[0]\n",
        "    print(f\"Mejor individuo para la función picos: {best_ind_peaks}, Fitness: {best_ind_peaks.fitness.values[0]}\")\n",
        "\n",
        "    best_ind_rastrigin = tools.selBest(pop_rastrigin, 1)[0]\n",
        "    print(f\"Mejor individuo para la función de Rastrigin: {best_ind_rastrigin}, Fitness: {best_ind_rastrigin.fitness.values[0]}\")\n"
      ],
      "metadata": {
        "colab": {
          "base_uri": "https://localhost:8080/"
        },
        "id": "TNw_pimss5V-",
        "outputId": "b2028776-629a-456f-d6d9-ace21c23393d"
      },
      "execution_count": 2,
      "outputs": [
        {
          "output_type": "stream",
          "name": "stdout",
          "text": [
            "Ejecutando GA para la función picos...\n",
            "gen\tnevals\tavg         \tstd         \tmin          \tmax         \n",
            "0  \t100   \t2.30783e-126\t2.29626e-125\t-4.61404e-275\t2.30783e-124\n",
            "1  \t76    \t-8.38668e-115\t9.99645e-114\t-9.91454e-113\t1.52786e-113\n",
            "2  \t71    \t8.86246e-38  \t8.81804e-37 \t-5.84516e-96 \t8.86246e-36 \n",
            "3  \t73    \t2.57601e-24  \t2.5631e-23  \t-9.80918e-205\t2.57601e-22 \n",
            "4  \t69    \t1.98738e-23  \t1.27858e-22 \t-8.88556e-257\t1.21457e-21 \n",
            "5  \t69    \t1.03675e-18  \t1.0315e-17  \t0            \t1.0367e-16  \n",
            "6  \t79    \t3.33075e-18  \t2.49521e-17 \t1.22315e-106 \t2.29396e-16 \n",
            "7  \t74    \t6.32804e-15  \t6.28189e-14 \t1.83734e-36  \t6.31368e-13 \n",
            "8  \t77    \t1.89711e-14  \t1.07698e-13 \t4.18017e-35  \t6.31368e-13 \n",
            "9  \t79    \t4.02679e-12  \t3.91044e-11 \t7.17277e-23  \t3.93104e-10 \n",
            "10 \t70    \t3.52706e-05  \t0.00035093  \t4.47908e-31  \t0.00352698  \n",
            "11 \t83    \t0.000141146  \t0.000691131 \t1.15034e-20  \t0.00352698  \n",
            "12 \t67    \t0.0103459    \t0.0955959   \t2.29396e-16  \t0.961121    \n",
            "13 \t72    \t0.0209809    \t0.134336    \t1.92621e-13  \t0.961121    \n",
            "14 \t75    \t0.0624291    \t0.227446    \t7.56076e-10  \t0.961121    \n",
            "15 \t85    \t0.187119     \t0.465396    \t7.02771e-08  \t3.35315     \n",
            "16 \t71    \t0.624344     \t1.14468     \t0.000400498  \t7.65694     \n",
            "17 \t76    \t1.50027      \t1.60105     \t0.00352698   \t7.8944      \n",
            "18 \t75    \t2.46501      \t2.12727     \t0.129437     \t7.8944      \n",
            "19 \t75    \t3.99262      \t2.24483     \t0.686257     \t7.8944      \n",
            "20 \t85    \t5.61072      \t2.31797     \t0.840567     \t7.8944      \n",
            "21 \t73    \t7.01819      \t1.55852     \t0.0137053    \t7.8944      \n",
            "22 \t80    \t7.24695      \t1.60007     \t-0.0655042   \t7.8944      \n",
            "23 \t78    \t7.42367      \t1.28344     \t0.498491     \t7.8944      \n",
            "24 \t60    \t7.50047      \t1.19977     \t0.240062     \t7.8944      \n",
            "25 \t81    \t7.51323      \t1.36805     \t0.406796     \t7.8944      \n",
            "26 \t75    \t7.6088       \t1.27458     \t0.541727     \t7.8944      \n",
            "27 \t70    \t7.45602      \t1.54939     \t0.0226085    \t7.8944      \n",
            "28 \t73    \t7.58443      \t1.35078     \t0.272255     \t7.8944      \n",
            "29 \t78    \t7.62688      \t1.17369     \t0.0354161    \t7.8944      \n",
            "30 \t69    \t7.64956      \t1.25977     \t0.272533     \t7.8944      \n",
            "31 \t72    \t7.51415      \t1.67789     \t-2.67228     \t7.8944      \n",
            "32 \t78    \t7.47557      \t1.5212      \t0.0413928    \t7.89451     \n",
            "33 \t68    \t7.49803      \t1.46961     \t0.0701622    \t7.9394      \n",
            "34 \t64    \t7.64343      \t1.21657     \t0.159184     \t7.9394      \n",
            "35 \t78    \t7.61842      \t1.21834     \t0.5611       \t7.9394      \n",
            "36 \t73    \t7.64858      \t1.04783     \t0.466605     \t7.9394      \n",
            "37 \t73    \t7.70133      \t0.867294    \t2.33061      \t8.0489      \n",
            "38 \t76    \t7.47413      \t1.6621      \t-1.31954     \t8.10282     \n",
            "39 \t73    \t7.68557      \t1.07252     \t0.723615     \t8.10282     \n",
            "40 \t82    \t7.71617      \t1.21983     \t0.36038      \t8.10282     \n",
            "41 \t76    \t7.83178      \t1.08079     \t0.00314002   \t8.10282     \n",
            "42 \t73    \t7.73547      \t1.50967     \t-0.0110356   \t8.10282     \n",
            "43 \t79    \t7.94565      \t1.07159     \t0.215003     \t8.10425     \n",
            "44 \t78    \t7.86129      \t1.19737     \t0.829482     \t8.10425     \n",
            "45 \t70    \t7.62636      \t1.59507     \t0.0118937    \t8.10425     \n",
            "46 \t85    \t7.97366      \t0.758123    \t2.22325      \t8.10425     \n",
            "47 \t81    \t7.85164      \t1.23044     \t0.540695     \t8.10425     \n",
            "48 \t78    \t7.61018      \t1.95175     \t-5.23632     \t8.10425     \n",
            "49 \t72    \t7.77934      \t1.40267     \t-0.781405    \t8.10425     \n",
            "50 \t88    \t7.44515      \t2.11805     \t-0.0110346   \t8.10425     \n",
            "51 \t81    \t7.79471      \t1.30675     \t0.936593     \t8.10425     \n",
            "52 \t72    \t7.70263      \t1.58672     \t0.0935091    \t8.10425     \n",
            "53 \t75    \t7.78826      \t1.32769     \t0.508761     \t8.10425     \n",
            "54 \t76    \t7.71855      \t1.48879     \t0.580388     \t8.10425     \n",
            "55 \t75    \t7.94038      \t1.07179     \t0.464211     \t8.10425     \n",
            "56 \t73    \t7.98539      \t0.852785    \t0.839256     \t8.10425     \n",
            "57 \t72    \t7.73977      \t1.33067     \t1.1006       \t8.10425     \n",
            "58 \t79    \t7.89554      \t0.928575    \t1.04383      \t8.10425     \n",
            "59 \t70    \t7.91401      \t1.16423     \t0.00160988   \t8.10425     \n",
            "60 \t73    \t7.70934      \t1.52224     \t0.167068     \t8.10425     \n",
            "61 \t81    \t7.58453      \t1.74471     \t3.9505e-10   \t8.10425     \n",
            "62 \t75    \t7.95437      \t0.844038    \t0.963987     \t8.10425     \n",
            "63 \t76    \t7.97391      \t0.707278    \t2.10625      \t8.10425     \n",
            "64 \t74    \t7.95485      \t0.888912    \t0.794593     \t8.10425     \n",
            "65 \t84    \t7.54874      \t1.84641     \t0.189156     \t8.10425     \n",
            "66 \t79    \t7.88375      \t1.04334     \t0.221201     \t8.10425     \n",
            "67 \t73    \t7.70174      \t1.53925     \t0.424408     \t8.10425     \n",
            "68 \t71    \t7.8132       \t1.30408     \t0.00347182   \t8.10425     \n",
            "69 \t82    \t7.8517       \t1.25755     \t0.64365      \t8.10425     \n",
            "70 \t71    \t7.9956       \t0.698781    \t2.71112      \t8.10425     \n",
            "71 \t90    \t7.72601      \t1.47254     \t0.0811021    \t8.10425     \n",
            "72 \t79    \t7.99135      \t0.813973    \t0.533266     \t8.10425     \n",
            "73 \t67    \t7.90728      \t1.09632     \t0.89478      \t8.10425     \n",
            "74 \t69    \t7.88645      \t0.958768    \t0.694166     \t8.10425     \n",
            "75 \t71    \t7.6084       \t1.74227     \t0.0554266    \t8.10425     \n",
            "76 \t88    \t7.80618      \t1.22815     \t0.470854     \t8.10425     \n",
            "77 \t80    \t7.86906      \t1.08005     \t0.858432     \t8.10425     \n",
            "78 \t78    \t7.62195      \t1.68423     \t-0.010626    \t8.10425     \n",
            "79 \t76    \t7.80791      \t1.23145     \t0.0165694    \t8.10425     \n",
            "80 \t71    \t7.7813       \t1.41065     \t0.0261951    \t8.10425     \n",
            "81 \t77    \t7.92114      \t0.908591    \t1.8064       \t8.10425     \n",
            "82 \t64    \t7.58957      \t1.71539     \t0.448616     \t8.10425     \n",
            "83 \t77    \t7.91543      \t0.876917    \t2.24242      \t8.10499     \n",
            "84 \t92    \t7.88535      \t1.14052     \t1.09588      \t8.10499     \n",
            "85 \t86    \t7.97935      \t0.692712    \t2.85093      \t8.10499     \n",
            "86 \t71    \t7.9504       \t0.883115    \t1.39563      \t8.10499     \n",
            "87 \t66    \t7.90412      \t1.0984      \t0.433782     \t8.10499     \n",
            "88 \t71    \t7.53433      \t1.83753     \t0.335098     \t8.10499     \n",
            "89 \t81    \t7.81076      \t1.29511     \t0.773318     \t8.10499     \n",
            "90 \t82    \t7.74783      \t1.33728     \t0.556817     \t8.10499     \n",
            "91 \t75    \t7.80493      \t1.36218     \t0.183571     \t8.10499     \n",
            "92 \t72    \t7.79568      \t1.48002     \t-0.00834017  \t8.10499     \n",
            "93 \t71    \t7.49557      \t1.90644     \t-0.0088522   \t8.10499     \n",
            "94 \t75    \t7.60548      \t1.59105     \t0.446203     \t8.10499     \n",
            "95 \t69    \t7.73256      \t1.54711     \t-1.45399     \t8.10561     \n",
            "96 \t81    \t7.60484      \t1.65992     \t0.220876     \t8.10561     \n",
            "97 \t79    \t7.72456      \t1.35423     \t1.44286      \t8.10561     \n",
            "98 \t67    \t7.83106      \t1.27363     \t0.391973     \t8.10561     \n",
            "99 \t80    \t7.80148      \t1.23095     \t0.713195     \t8.10561     \n",
            "100\t83    \t7.59154      \t1.67963     \t0.000572137  \t8.10561     \n",
            "Ejecutando GA para la función de Rastrigin...\n",
            "gen\tnevals\tavg    \tstd    \tmin    \tmax    \n",
            "0  \t100   \t179.171\t33.4309\t109.143\t252.974\n",
            "1  \t71    \t149.961\t29.2001\t72.1184\t224.422\n",
            "2  \t77    \t127.992\t23.7638\t77.8902\t174.994\n",
            "3  \t78    \t109.391\t21.6949\t66.4697\t181.572\n",
            "4  \t76    \t95.1436\t17.3011\t59.5858\t154.058\n",
            "5  \t87    \t85.1234\t14.5669\t49.4802\t126.33 \n",
            "6  \t74    \t73.9701\t14.7926\t43.3971\t125.905\n",
            "7  \t68    \t65.3776\t13.9222\t31.3845\t119.493\n",
            "8  \t87    \t59.5183\t11.9277\t36.5234\t102.549\n",
            "9  \t84    \t54.3245\t13.2635\t31.0633\t94.8341\n",
            "10 \t77    \t46.4329\t10.6877\t26.9074\t85.9368\n",
            "11 \t75    \t40.4856\t12.5899\t25.3484\t93.1625\n",
            "12 \t80    \t35.4837\t10.2942\t20.2132\t84.1377\n",
            "13 \t76    \t33.0798\t9.93881\t20.2132\t68.89  \n",
            "14 \t77    \t31.0497\t13.6446\t18.4134\t80.4878\n",
            "15 \t76    \t28.8139\t14.7601\t14.1159\t112.078\n",
            "16 \t77    \t25.2684\t12.8749\t10.452 \t83.5015\n",
            "17 \t76    \t23.1236\t13.1987\t10.452 \t82.1607\n",
            "18 \t69    \t19.9302\t12.5324\t10.452 \t77.5704\n",
            "19 \t76    \t18.6037\t14.8651\t10.452 \t93.8724\n",
            "20 \t68    \t13.3281\t9.03462\t9.37313\t61.8231\n",
            "21 \t76    \t13.6522\t10.4659\t9.1625 \t65.7206\n",
            "22 \t84    \t13.0821\t8.69701\t9.11107\t63.8192\n",
            "23 \t75    \t14.7171\t13.1788\t9.11107\t100.541\n",
            "24 \t82    \t14.872 \t12.6551\t9.11107\t73.7252\n",
            "25 \t83    \t14.4758\t12.1095\t8.74878\t67.3102\n",
            "26 \t74    \t17.8271\t16.7206\t8.50602\t71.1431\n",
            "27 \t69    \t13.4853\t11.8534\t8.50602\t65.4042\n",
            "28 \t77    \t14.4042\t13.0344\t8.38774\t70.1373\n",
            "29 \t71    \t12.1252\t10.6423\t8.07338\t64.9221\n",
            "30 \t76    \t13.3538\t12.8152\t7.9551 \t76.8702\n",
            "31 \t72    \t10.935 \t7.79992\t7.52325\t47.653 \n",
            "32 \t65    \t12.026 \t10.6724\t7.52325\t63.9355\n",
            "33 \t80    \t14.6992\t15.4263\t7.1622 \t94.8857\n",
            "34 \t69    \t10.9525\t9.89872\t7.1622 \t60.4504\n",
            "35 \t68    \t9.72395\t7.22186\t7.1622 \t59.3376\n",
            "36 \t72    \t10.5753\t8.98433\t7.1622 \t54.7318\n",
            "37 \t76    \t11.6958\t11.0671\t7.1622 \t56.1157\n",
            "38 \t68    \t12.2819\t12.4024\t7.1622 \t72.6878\n",
            "39 \t77    \t11.0887\t10.8901\t7.1622 \t68.7246\n",
            "40 \t69    \t11.8511\t11.8946\t3.59321\t64.2619\n",
            "41 \t76    \t10.7545\t10.6209\t3.59321\t63.0262\n",
            "42 \t68    \t10.7585\t11.1965\t3.59321\t78.0664\n",
            "43 \t82    \t10.4337\t8.31592\t3.59321\t47.064 \n",
            "44 \t67    \t9.62102\t8.79811\t3.59321\t60.6974\n",
            "45 \t84    \t12.8079\t15.6216\t3.59321\t70.444 \n",
            "46 \t79    \t8.84838\t10.0626\t3.59321\t47.9719\n",
            "47 \t83    \t7.97299\t9.75452\t3.59321\t48.0014\n",
            "48 \t83    \t9.76758\t14.6291\t3.59321\t72.7995\n",
            "49 \t74    \t6.08199\t7.94689\t3.59321\t43.6826\n",
            "50 \t73    \t10.0756\t15.4623\t3.59321\t67.9346\n",
            "51 \t66    \t10.6488\t17.3755\t3.59321\t115.059\n",
            "52 \t77    \t8.26553\t12.6169\t3.59321\t76.8441\n",
            "53 \t75    \t6.44094\t9.51207\t2.59494\t69.0793\n",
            "54 \t75    \t6.66216\t8.47583\t2.59494\t44.4843\n",
            "55 \t85    \t7.32357\t11.0147\t2.59494\t61.8829\n",
            "56 \t71    \t5.55222\t7.31555\t2.59494\t40.8875\n",
            "57 \t91    \t6.2354 \t10.5233\t2.59494\t73.3759\n",
            "58 \t85    \t7.59916\t11.5374\t2.59494\t59.9226\n",
            "59 \t69    \t6.55197\t11.0459\t2.24073\t54.8984\n",
            "60 \t79    \t5.99589\t10.2509\t2.24073\t46.6688\n",
            "61 \t80    \t4.72192\t7.67016\t2.24073\t57.8084\n",
            "62 \t72    \t7.36171\t11.3029\t2.24073\t67.8414\n",
            "63 \t74    \t5.61724\t11.0029\t2.24073\t77.27  \n",
            "64 \t75    \t5.62307\t8.39848\t2.24073\t43.0314\n",
            "65 \t76    \t7.50955\t12.3683\t2.24073\t55.0803\n",
            "66 \t76    \t6.08818\t9.79253\t2.24073\t46.3369\n",
            "67 \t74    \t8.89645\t14.3911\t2.24073\t67.224 \n",
            "68 \t71    \t5.44153\t9.1079 \t2.24073\t50.4737\n",
            "69 \t75    \t8.95195\t14.7574\t2.24073\t69.2641\n",
            "70 \t74    \t6.34345\t10.8991\t2.24073\t51.3739\n",
            "71 \t68    \t6.47596\t10.2995\t2.24073\t62.3857\n",
            "72 \t76    \t4.88967\t9.21278\t2.24073\t60.2135\n",
            "73 \t78    \t6.84909\t11.3315\t2.24073\t59.0007\n",
            "74 \t78    \t6.25072\t10.7221\t2.24073\t56.789 \n",
            "75 \t78    \t6.07853\t10.0137\t2.24073\t54.4639\n",
            "76 \t75    \t5.9806 \t10.0924\t2.24073\t60.3242\n",
            "77 \t72    \t8.40852\t12.275 \t2.24073\t59.0775\n",
            "78 \t64    \t7.46234\t12.0821\t2.24073\t63.7106\n",
            "79 \t74    \t8.42511\t14.2407\t2.24073\t79.211 \n",
            "80 \t69    \t6.36338\t11.8694\t2.24073\t62.8873\n",
            "81 \t68    \t5.77418\t10.0149\t2.24073\t58.061 \n",
            "82 \t70    \t6.56506\t11.4696\t2.24073\t57.7207\n",
            "83 \t65    \t6.50735\t13.1964\t2.24073\t82.8189\n",
            "84 \t74    \t6.23562\t11.0953\t2.24073\t63.4893\n",
            "85 \t78    \t6.3766 \t10.8826\t2.24073\t55.2881\n",
            "86 \t77    \t4.59551\t8.80004\t2.24073\t55.9144\n",
            "87 \t69    \t8.26268\t13.5999\t2.24073\t72.3597\n",
            "88 \t68    \t6.56724\t11.0786\t2.24073\t59.3443\n",
            "89 \t82    \t5.77349\t8.85641\t2.24073\t56.6354\n",
            "90 \t74    \t7.47458\t12.2043\t2.24073\t60.9811\n",
            "91 \t76    \t6.44587\t10.656 \t2.24073\t58.0246\n",
            "92 \t78    \t7.76767\t13.7277\t2.24073\t68.7064\n",
            "93 \t80    \t7.58825\t12.822 \t2.24073\t73.5268\n",
            "94 \t69    \t7.94152\t12.9781\t2.24073\t75.9057\n",
            "95 \t80    \t7.87954\t15.8685\t2.24073\t88.2842\n",
            "96 \t65    \t7.67886\t13.003 \t2.24073\t79.241 \n",
            "97 \t73    \t6.60372\t10.3541\t2.24073\t51.9994\n",
            "98 \t66    \t5.55532\t10.1656\t2.24073\t53.6053\n",
            "99 \t74    \t6.60415\t10.6053\t2.24073\t50.6195\n",
            "100\t67    \t5.81592\t11.3584\t2.24073\t61.025 \n",
            "Mejor individuo para la función picos: [-0.010253531938590537, 1.5874241282701755], Fitness: 8.10561005326723\n",
            "Mejor individuo para la función de Rastrigin: [-0.06515551058572688, 0.00024189159935850135, -0.03254852308532813, 0.03975760829476316, 0.005926910064456337, -0.013844195833957372, -0.04514493217422899, -0.04309959641219496, 0.0031126735040248876, 0.019309776188632916], Fitness: 2.2407314907312355\n"
          ]
        }
      ]
    },
    {
      "cell_type": "markdown",
      "source": [
        "Los resultados de la ejecución del algoritmo genético (GA) para las funciones picos y Rastrigin muestran cómo el GA converge hacia soluciones óptimas a lo largo de las generaciones. A continuación, se presenta un análisis detallado de los resultados para cada función:"
      ],
      "metadata": {
        "id": "n6bdEswnx0it"
      }
    },
    {
      "cell_type": "markdown",
      "source": [
        "## Función Picos\n",
        "### Análisis General\n",
        "**Generación Inicial (gen 0):**\n",
        "\n",
        "* **Promedio (avg):** 2.30783e-126\n",
        "\n",
        "* **Desviación estándar (std):** 2.29626e-125\n",
        "\n",
        "* **Mínimo (min):** -4.61404e-275\n",
        "\n",
        "* **Máximo (max):** 2.30783e-124\n",
        "\n",
        "\n",
        "**Generación 100:**\n",
        "\n",
        "* **Promedio (avg):** 7.59154\n",
        "\n",
        "* **Desviación estándar (std):** 1.67963\n",
        "\n",
        "* **Mínimo (min):** 0.000572137\n",
        "\n",
        "* **Máximo (max):** 8.10561\n",
        "\n",
        "### Obserevaciones\n",
        "1. **Convergencia:** Se observa una mejora significativa en la aptitud (fitness) promedio desde la generación inicial hasta la generación final, pasando de un promedio de 2.30783e-126 a 7.59154.\n",
        "2. **Desviación Estándar:** La desviación estándar se mantiene relativamente alta durante las primeras generaciones, lo que indica una alta diversidad en la población. Sin embargo, hacia las últimas generaciones, la desviación estándar disminuye, sugiriendo convergencia.\n",
        "3. **Aptitud Mínima y Máxima:** Los valores mínimo y máximo también muestran una tendencia hacia la mejora, con el valor máximo alcanzando cerca de 8.10561, lo que está cerca del óptimo global esperado para la función picos."
      ],
      "metadata": {
        "id": "VTKcvdJ2vW8K"
      }
    },
    {
      "cell_type": "markdown",
      "source": [
        "##Función Rastrigin\n",
        "###Análisis General\n",
        "**Generación Inicial (gen 0):**\n",
        "\n",
        "* **Promedio (avg):** 179.171\n",
        "* **Desviación estándar (std):** 33.4309\n",
        "* **Mínimo (min):** 109.143\n",
        "* **Máximo (max):** 252.974\n",
        "\n",
        "**Generación 100:**\n",
        "\n",
        "* **Promedio (avg):** 5.99589\n",
        "* **Desviación estándar (std):** 10.2509\n",
        "* **Mínimo (min):** 2.24073\n",
        "* **Máximo (max):** 46.6688\n",
        "## Observaciones\n",
        "1. **Convergencia:** Al igual que en la función picos, la aptitud promedio mejora significativamente, reduciéndose de 179.171 a 5.99589, indicando que el GA está encontrando soluciones cercanas al óptimo.\n",
        "2. **Desviación Estándar:** La desviación estándar disminuye, pero sigue siendo considerable al final de las generaciones, lo que puede sugerir que aún hay cierta diversidad en la población o que algunas soluciones no son óptimas.\n",
        "3. **Aptitud Mínima y Máxima:** Los valores mínimos también muestran una tendencia a la mejora, alcanzando valores tan bajos como 2.24073, que está mucho más cerca del óptimo global esperado para la función Rastrigin."
      ],
      "metadata": {
        "id": "2r7I7CyUxAtF"
      }
    },
    {
      "cell_type": "markdown",
      "source": [
        "## Conclusión\n",
        "El algoritmo genético demuestra ser efectivo para ambas funciones, mejorando consistentemente la aptitud promedio y encontrando soluciones cercanas al óptimo global. Sin embargo, es importante tener en cuenta la configuración del GA, incluyendo parámetros como la tasa de mutación, la selección y el cruce, que pueden influir significativamente en el rendimiento y la convergencia del algoritmo."
      ],
      "metadata": {
        "id": "EDg1DDolyLuB"
      }
    },
    {
      "cell_type": "markdown",
      "source": [
        "# Comparación de Cruce de un Punto y Dos Puntos\n",
        "Para comparar el cruce con un punto y dos puntos, puedes modificar la línea de código donde se define el cruce en la caja de herramientas:"
      ],
      "metadata": {
        "id": "2MAEDE8ItQaD"
      }
    },
    {
      "cell_type": "code",
      "source": [
        "toolbox.register(\"mate\", tools.cxOnePoint)  # Para cruce con un punto\n",
        "toolbox.register(\"mate\", tools.cxTwoPoint)  # Para cruce con dos puntos\n"
      ],
      "metadata": {
        "id": "xbdhqkpVtWvK"
      },
      "execution_count": 3,
      "outputs": []
    },
    {
      "cell_type": "code",
      "source": [
        "# --------------------------------------------"
      ],
      "metadata": {
        "id": "MRDiC1wy0qdm"
      },
      "execution_count": null,
      "outputs": []
    },
    {
      "cell_type": "code",
      "source": [
        "pip install deap"
      ],
      "metadata": {
        "colab": {
          "base_uri": "https://localhost:8080/"
        },
        "id": "QFDe-O0x0yw2",
        "outputId": "45f7bdb3-2aae-4a8e-f444-bc0a6e0ab96b"
      },
      "execution_count": 4,
      "outputs": [
        {
          "output_type": "stream",
          "name": "stdout",
          "text": [
            "Requirement already satisfied: deap in /usr/local/lib/python3.10/dist-packages (1.4.1)\n",
            "Requirement already satisfied: numpy in /usr/local/lib/python3.10/dist-packages (from deap) (1.25.2)\n"
          ]
        }
      ]
    },
    {
      "cell_type": "code",
      "source": [
        "import random\n",
        "import numpy as np\n",
        "import matplotlib.pyplot as plt\n",
        "from deap import base, creator, tools, algorithms\n",
        "\n",
        "# Definir la función de aptitud para los problemas\n",
        "def eval_function(individual):\n",
        "    return sum(individual),\n",
        "\n",
        "# Configurar DEAP\n",
        "creator.create(\"FitnessMax\", base.Fitness, weights=(1.0,))\n",
        "creator.create(\"Individual\", list, fitness=creator.FitnessMax)\n",
        "\n",
        "toolbox = base.Toolbox()\n",
        "toolbox.register(\"attr_float\", random.random)\n",
        "toolbox.register(\"individual\", tools.initRepeat, creator.Individual, toolbox.attr_float, 10)\n",
        "toolbox.register(\"population\", tools.initRepeat, list, toolbox.individual)\n",
        "\n",
        "toolbox.register(\"evaluate\", eval_function)\n",
        "toolbox.register(\"mutate\", tools.mutGaussian, mu=0, sigma=1, indpb=0.2)\n",
        "toolbox.register(\"select\", tools.selTournament, tournsize=3)\n",
        "\n",
        "# Configurar los parámetros\n",
        "POP_SIZE = 100\n",
        "N_GEN = 50\n",
        "CXPB = 0.5  # Probabilidad de cruce\n",
        "MUTPB = 0.2 # Probabilidad de mutación\n",
        "\n",
        "# Función para ejecutar un AG con cruce con un punto\n",
        "def run_ga_one_point_crossover():\n",
        "    toolbox.register(\"mate\", tools.cxOnePoint)\n",
        "    population = toolbox.population(n=POP_SIZE)\n",
        "    halloffame = tools.HallOfFame(1)\n",
        "    stats = tools.Statistics(lambda ind: ind.fitness.values)\n",
        "    stats.register(\"avg\", np.mean)\n",
        "    stats.register(\"std\", np.std)\n",
        "    stats.register(\"min\", np.min)\n",
        "    stats.register(\"max\", np.max)\n",
        "\n",
        "    population, logbook = algorithms.eaSimple(population, toolbox, cxpb=CXPB, mutpb=MUTPB, ngen=N_GEN,\n",
        "                                              stats=stats, halloffame=halloffame, verbose=False)\n",
        "    return logbook, halloffame\n",
        "\n",
        "# Función para ejecutar un AG con cruce con dos puntos\n",
        "def run_ga_two_point_crossover():\n",
        "    toolbox.register(\"mate\", tools.cxTwoPoint)\n",
        "    population = toolbox.population(n=POP_SIZE)\n",
        "    halloffame = tools.HallOfFame(1)\n",
        "    stats = tools.Statistics(lambda ind: ind.fitness.values)\n",
        "    stats.register(\"avg\", np.mean)\n",
        "    stats.register(\"std\", np.std)\n",
        "    stats.register(\"min\", np.min)\n",
        "    stats.register(\"max\", np.max)\n",
        "\n",
        "    population, logbook = algorithms.eaSimple(population, toolbox, cxpb=CXPB, mutpb=MUTPB, ngen=N_GEN,\n",
        "                                              stats=stats, halloffame=halloffame, verbose=False)\n",
        "    return logbook, halloffame\n",
        "\n",
        "# Ejecutar ambos AG y comparar resultados\n",
        "logbook_one_point, hof_one_point = run_ga_one_point_crossover()\n",
        "logbook_two_point, hof_two_point = run_ga_two_point_crossover()\n",
        "\n",
        "# Graficar los resultados\n",
        "def plot_results(logbook, title):\n",
        "    gen = logbook.select(\"gen\")\n",
        "    fit_maxs = logbook.select(\"max\")\n",
        "    fit_avgs = logbook.select(\"avg\")\n",
        "\n",
        "    plt.plot(gen, fit_maxs, label='Max Fitness')\n",
        "    plt.plot(gen, fit_avgs, label='Avg Fitness')\n",
        "    plt.xlabel('Generation')\n",
        "    plt.ylabel('Fitness')\n",
        "    plt.title(title)\n",
        "    plt.legend()\n",
        "    plt.show()\n",
        "\n",
        "plot_results(logbook_one_point, \"GA with One-Point Crossover\")\n",
        "plot_results(logbook_two_point, \"GA with Two-Point Crossover\")\n"
      ],
      "metadata": {
        "colab": {
          "base_uri": "https://localhost:8080/",
          "height": 927
        },
        "id": "jznrktEG1cIU",
        "outputId": "ff7d968b-cd6b-4310-a412-4f3ddc75f7b1"
      },
      "execution_count": 6,
      "outputs": [
        {
          "output_type": "display_data",
          "data": {
            "text/plain": [
              "<Figure size 640x480 with 1 Axes>"
            ],
            "image/png": "[encoded data removed]"
          },
          "metadata": {}
        },
        {
          "output_type": "display_data",
          "data": {
            "text/plain": [
              "<Figure size 640x480 with 1 Axes>"
            ],
            "image/png": "[encoded data removed]"
          },
          "metadata": {}
        }
      ]
    },
    {
      "cell_type": "markdown",
      "source": [
        "Vamos a analizar los resultados obtenidos de los gráficos y comparar el funcionamiento del Algoritmo Genético (AG) con cruce de un punto y cruce de dos puntos."
      ],
      "metadata": {
        "id": "vRGW_cSq4WfV"
      }
    },
    {
      "cell_type": "markdown",
      "source": [
        "### Análisis de los Gráficos\n",
        "\n",
        "#### GA with One-Point Crossover\n",
        "- **Max Fitness**: La aptitud máxima aumenta de manera constante a lo largo de las generaciones, alcanzando un valor cercano a 80 al final de las 50 generaciones.\n",
        "- **Avg Fitness**: La aptitud promedio también muestra un incremento continuo, aunque a un ritmo ligeramente más lento que la aptitud máxima. Al final de las 50 generaciones, la aptitud promedio está cerca de 70.\n",
        "\n",
        "#### GA with Two-Point Crossover\n",
        "- **Max Fitness**: Similar al cruce de un punto, la aptitud máxima también muestra un incremento constante, alcanzando un valor cercano a 80 al final de las 50 generaciones.\n",
        "- **Avg Fitness**: La aptitud promedio sigue un patrón de incremento continuo, alcanzando un valor ligeramente superior a 70 al final de las 50 generaciones.\n",
        "\n",
        "### Comparación de Resultados\n",
        "\n",
        "1. **Aptitud Máxima (Max Fitness)**:\n",
        "   - Ambas técnicas de cruce muestran un incremento similar en la aptitud máxima a lo largo de las generaciones.\n",
        "   - En términos de la aptitud máxima alcanzada, ambos métodos llegan a valores muy similares, cercanos a 80.\n",
        "\n",
        "2. **Aptitud Promedio (Avg Fitness)**:\n",
        "   - La aptitud promedio en ambos métodos también sigue un patrón de incremento constante.\n",
        "   - La aptitud promedio al final de las 50 generaciones es ligeramente superior en el método de cruce de dos puntos en comparación con el cruce de un punto. Sin embargo, esta diferencia no es muy significativa.\n",
        "\n",
        "3. **Velocidad de Convergencia**:\n",
        "   - En las primeras generaciones, ambos métodos muestran una velocidad de convergencia similar.\n",
        "   - A medida que avanzan las generaciones, el cruce de dos puntos parece tener una ligera ventaja en términos de la aptitud promedio, aunque la diferencia no es sustancial.\n",
        "\n",
        "### Conclusiones\n",
        "\n",
        "- **Eficiencia Similar**: Ambos métodos de cruce (un punto y dos puntos) son efectivos para mejorar la aptitud de las soluciones a lo largo de las generaciones.\n",
        "- **Ligeras Diferencias**: Aunque el cruce de dos puntos muestra una aptitud promedio ligeramente superior en las últimas generaciones, la diferencia con el cruce de un punto no es lo suficientemente significativa como para declarar un método claramente superior en este experimento.\n",
        "- **Elección del Método**: La elección entre un punto y dos puntos de cruce puede depender de otros factores específicos del problema o de las características particulares de la implementación del AG.\n",
        "\n",
        "En resumen, ambos métodos son comparables en términos de la mejor aptitud alcanzada y la velocidad de convergencia, con una ligera ventaja para el cruce de dos puntos en la aptitud promedio al final del experimento."
      ],
      "metadata": {
        "id": "CKoUqm_A4MvY"
      }
    }
  ]
}