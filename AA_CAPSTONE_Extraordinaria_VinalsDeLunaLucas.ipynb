{
  "cells": [
    {
      "cell_type": "markdown",
      "source": [
        "Lucas Viñals de Luna"
      ],
      "metadata": {
        "id": "-N8Vmt0WI0A2"
      },
      "id": "-N8Vmt0WI0A2"
    },
    {
      "cell_type": "markdown",
      "source": [
        "#INTRODUCCIÓN"
      ],
      "metadata": {
        "id": "dB3u7gbrKxAG"
      },
      "id": "dB3u7gbrKxAG"
    },
    {
      "cell_type": "markdown",
      "source": [
        "En este trabajo se desarrollará un proyecto para la creación de una red neuronal con el objetivo de abordar un problema de regresión.\n",
        "\n",
        "Para seleccionar el tema de este proyecto, se ha optado por elegir un área que tenga aplicaciones prácticas en la vida cotidiana. Por ello, hemos decidido que una opción relevante es realizar predicciones de temperatura en una ubicación específica.\n",
        "\n",
        "A continuación, se procederá a la implementación y resolución de este proyecto:"
      ],
      "metadata": {
        "id": "3imp8nVbJBtq"
      },
      "id": "3imp8nVbJBtq"
    },
    {
      "cell_type": "markdown",
      "source": [
        "Se importa keras:"
      ],
      "metadata": {
        "id": "bDT0rPR_LG-l"
      },
      "id": "bDT0rPR_LG-l"
    },
    {
      "cell_type": "code",
      "execution_count": 3,
      "id": "5567306c",
      "metadata": {
        "colab": {
          "base_uri": "https://localhost:8080/",
          "height": 35
        },
        "id": "5567306c",
        "outputId": "00a7f454-3276-4955-eddd-fa1bf94517a8"
      },
      "outputs": [
        {
          "output_type": "execute_result",
          "data": {
            "text/plain": [
              "'2.15.0'"
            ],
            "application/vnd.google.colaboratory.intrinsic+json": {
              "type": "string"
            }
          },
          "metadata": {},
          "execution_count": 3
        }
      ],
      "source": [
        "import keras\n",
        "keras.__version__"
      ]
    },
    {
      "cell_type": "markdown",
      "source": [
        "# Descarga y tratamiento de datos\n",
        "\n",
        "Para iniciar el desarrollo del proyecto, es fundamental cargar la base de datos que se va a utilizar. La base de datos empleada en este proyecto ha sido obtenida de Kaggle y contiene los siguientes datos:\n",
        "\n",
        "Se trata de un conjunto de datos con 96,453 registros, de los cuales se han seleccionado 12 características clave. Estas son:\n",
        "\n",
        "- **Formatted date**: Fecha\n",
        "- **Summary**: Resumen del clima en ese momento\n",
        "- **Precip Type**: Tipo de precipitación\n",
        "- **Temperature**: Temperatura en grados centígrados\n",
        "- **Apparent Temperature**: Sensación térmica en grados centígrados\n",
        "- **Humidity**: Humedad\n",
        "- **Wind speed**: Velocidad del viento\n",
        "- **Wind Bearing**: Dirección del viento\n",
        "- **Visibility**: Rango de visibilidad\n",
        "- **Cloud cover**: Nubosidad\n",
        "- **Pressure**: Presión atmosférica\n",
        "- **Daily summary**: Resumen diario\n",
        "\n",
        "A continuación, se presentará una tabla como ejemplo de estos datos:\n",
        "\n"
      ],
      "metadata": {
        "id": "VxtiL4ISC1UK"
      },
      "id": "VxtiL4ISC1UK"
    },
    {
      "cell_type": "code",
      "source": [
        "import pandas as pd\n",
        "datos=pd.read_csv('weatherHistory.csv',encoding='latin-1')\n",
        "datos.head()"
      ],
      "metadata": {
        "id": "Zg6ggG0rFVQb",
        "outputId": "b113f3d0-ef4b-46cd-d8bf-68d5561830bf",
        "colab": {
          "base_uri": "https://localhost:8080/",
          "height": 414
        }
      },
      "id": "Zg6ggG0rFVQb",
      "execution_count": 4,
      "outputs": [
        {
          "output_type": "execute_result",
          "data": {
            "text/plain": [
              "                  Formatted Date        Summary Precip Type  Temperature (C)  \\\n",
              "0  2006-04-01 00:00:00.000 +0200  Partly Cloudy        rain         9.472222   \n",
              "1  2006-04-01 01:00:00.000 +0200  Partly Cloudy        rain         9.355556   \n",
              "2  2006-04-01 02:00:00.000 +0200  Mostly Cloudy        rain         9.377778   \n",
              "3  2006-04-01 03:00:00.000 +0200  Partly Cloudy        rain         8.288889   \n",
              "4  2006-04-01 04:00:00.000 +0200  Mostly Cloudy        rain         8.755556   \n",
              "\n",
              "   Apparent Temperature (C)  Humidity  Wind Speed (km/h)  \\\n",
              "0                  7.388889      0.89            14.1197   \n",
              "1                  7.227778      0.86            14.2646   \n",
              "2                  9.377778      0.89             3.9284   \n",
              "3                  5.944444      0.83            14.1036   \n",
              "4                  6.977778      0.83            11.0446   \n",
              "\n",
              "   Wind Bearing (degrees)  Visibility (km)  Loud Cover  Pressure (millibars)  \\\n",
              "0                   251.0          15.8263         0.0               1015.13   \n",
              "1                   259.0          15.8263         0.0               1015.63   \n",
              "2                   204.0          14.9569         0.0               1015.94   \n",
              "3                   269.0          15.8263         0.0               1016.41   \n",
              "4                   259.0          15.8263         0.0               1016.51   \n",
              "\n",
              "                       Daily Summary  \n",
              "0  Partly cloudy throughout the day.  \n",
              "1  Partly cloudy throughout the day.  \n",
              "2  Partly cloudy throughout the day.  \n",
              "3  Partly cloudy throughout the day.  \n",
              "4  Partly cloudy throughout the day.  "
            ],
            "text/html": [
              "\n",
              "  <div id=\"df-065b103f-df43-466d-bb16-395b37771697\" class=\"colab-df-container\">\n",
              "    <div>\n",
              "<style scoped>\n",
              "    .dataframe tbody tr th:only-of-type {\n",
              "        vertical-align: middle;\n",
              "    }\n",
              "\n",
              "    .dataframe tbody tr th {\n",
              "        vertical-align: top;\n",
              "    }\n",
              "\n",
              "    .dataframe thead th {\n",
              "        text-align: right;\n",
              "    }\n",
              "</style>\n",
              "<table border=\"1\" class=\"dataframe\">\n",
              "  <thead>\n",
              "    <tr style=\"text-align: right;\">\n",
              "      <th></th>\n",
              "      <th>Formatted Date</th>\n",
              "      <th>Summary</th>\n",
              "      <th>Precip Type</th>\n",
              "      <th>Temperature (C)</th>\n",
              "      <th>Apparent Temperature (C)</th>\n",
              "      <th>Humidity</th>\n",
              "      <th>Wind Speed (km/h)</th>\n",
              "      <th>Wind Bearing (degrees)</th>\n",
              "      <th>Visibility (km)</th>\n",
              "      <th>Loud Cover</th>\n",
              "      <th>Pressure (millibars)</th>\n",
              "      <th>Daily Summary</th>\n",
              "    </tr>\n",
              "  </thead>\n",
              "  <tbody>\n",
              "    <tr>\n",
              "      <th>0</th>\n",
              "      <td>2006-04-01 00:00:00.000 +0200</td>\n",
              "      <td>Partly Cloudy</td>\n",
              "      <td>rain</td>\n",
              "      <td>9.472222</td>\n",
              "      <td>7.388889</td>\n",
              "      <td>0.89</td>\n",
              "      <td>14.1197</td>\n",
              "      <td>251.0</td>\n",
              "      <td>15.8263</td>\n",
              "      <td>0.0</td>\n",
              "      <td>1015.13</td>\n",
              "      <td>Partly cloudy throughout the day.</td>\n",
              "    </tr>\n",
              "    <tr>\n",
              "      <th>1</th>\n",
              "      <td>2006-04-01 01:00:00.000 +0200</td>\n",
              "      <td>Partly Cloudy</td>\n",
              "      <td>rain</td>\n",
              "      <td>9.355556</td>\n",
              "      <td>7.227778</td>\n",
              "      <td>0.86</td>\n",
              "      <td>14.2646</td>\n",
              "      <td>259.0</td>\n",
              "      <td>15.8263</td>\n",
              "      <td>0.0</td>\n",
              "      <td>1015.63</td>\n",
              "      <td>Partly cloudy throughout the day.</td>\n",
              "    </tr>\n",
              "    <tr>\n",
              "      <th>2</th>\n",
              "      <td>2006-04-01 02:00:00.000 +0200</td>\n",
              "      <td>Mostly Cloudy</td>\n",
              "      <td>rain</td>\n",
              "      <td>9.377778</td>\n",
              "      <td>9.377778</td>\n",
              "      <td>0.89</td>\n",
              "      <td>3.9284</td>\n",
              "      <td>204.0</td>\n",
              "      <td>14.9569</td>\n",
              "      <td>0.0</td>\n",
              "      <td>1015.94</td>\n",
              "      <td>Partly cloudy throughout the day.</td>\n",
              "    </tr>\n",
              "    <tr>\n",
              "      <th>3</th>\n",
              "      <td>2006-04-01 03:00:00.000 +0200</td>\n",
              "      <td>Partly Cloudy</td>\n",
              "      <td>rain</td>\n",
              "      <td>8.288889</td>\n",
              "      <td>5.944444</td>\n",
              "      <td>0.83</td>\n",
              "      <td>14.1036</td>\n",
              "      <td>269.0</td>\n",
              "      <td>15.8263</td>\n",
              "      <td>0.0</td>\n",
              "      <td>1016.41</td>\n",
              "      <td>Partly cloudy throughout the day.</td>\n",
              "    </tr>\n",
              "    <tr>\n",
              "      <th>4</th>\n",
              "      <td>2006-04-01 04:00:00.000 +0200</td>\n",
              "      <td>Mostly Cloudy</td>\n",
              "      <td>rain</td>\n",
              "      <td>8.755556</td>\n",
              "      <td>6.977778</td>\n",
              "      <td>0.83</td>\n",
              "      <td>11.0446</td>\n",
              "      <td>259.0</td>\n",
              "      <td>15.8263</td>\n",
              "      <td>0.0</td>\n",
              "      <td>1016.51</td>\n",
              "      <td>Partly cloudy throughout the day.</td>\n",
              "    </tr>\n",
              "  </tbody>\n",
              "</table>\n",
              "</div>\n",
              "    <div class=\"colab-df-buttons\">\n",
              "\n",
              "  <div class=\"colab-df-container\">\n",
              "    <button class=\"colab-df-convert\" onclick=\"convertToInteractive('df-065b103f-df43-466d-bb16-395b37771697')\"\n",
              "            title=\"Convert this dataframe to an interactive table.\"\n",
              "            style=\"display:none;\">\n",
              "\n",
              "  <svg xmlns=\"http://www.w3.org/2000/svg\" height=\"24px\" viewBox=\"0 -960 960 960\">\n",
              "    <path d=\"M120-120v-720h720v720H120Zm60-500h600v-160H180v160Zm220 220h160v-160H400v160Zm0 220h160v-160H400v160ZM180-400h160v-160H180v160Zm440 0h160v-160H620v160ZM180-180h160v-160H180v160Zm440 0h160v-160H620v160Z\"/>\n",
              "  </svg>\n",
              "    </button>\n",
              "\n",
              "  <style>\n",
              "    .colab-df-container {\n",
              "      display:flex;\n",
              "      gap: 12px;\n",
              "    }\n",
              "\n",
              "    .colab-df-convert {\n",
              "      background-color: #E8F0FE;\n",
              "      border: none;\n",
              "      border-radius: 50%;\n",
              "      cursor: pointer;\n",
              "      display: none;\n",
              "      fill: #1967D2;\n",
              "      height: 32px;\n",
              "      padding: 0 0 0 0;\n",
              "      width: 32px;\n",
              "    }\n",
              "\n",
              "    .colab-df-convert:hover {\n",
              "      background-color: #E2EBFA;\n",
              "      box-shadow: 0px 1px 2px rgba(60, 64, 67, 0.3), 0px 1px 3px 1px rgba(60, 64, 67, 0.15);\n",
              "      fill: #174EA6;\n",
              "    }\n",
              "\n",
              "    .colab-df-buttons div {\n",
              "      margin-bottom: 4px;\n",
              "    }\n",
              "\n",
              "    [theme=dark] .colab-df-convert {\n",
              "      background-color: #3B4455;\n",
              "      fill: #D2E3FC;\n",
              "    }\n",
              "\n",
              "    [theme=dark] .colab-df-convert:hover {\n",
              "      background-color: #434B5C;\n",
              "      box-shadow: 0px 1px 3px 1px rgba(0, 0, 0, 0.15);\n",
              "      filter: drop-shadow(0px 1px 2px rgba(0, 0, 0, 0.3));\n",
              "      fill: #FFFFFF;\n",
              "    }\n",
              "  </style>\n",
              "\n",
              "    <script>\n",
              "      const buttonEl =\n",
              "        document.querySelector('#df-065b103f-df43-466d-bb16-395b37771697 button.colab-df-convert');\n",
              "      buttonEl.style.display =\n",
              "        google.colab.kernel.accessAllowed ? 'block' : 'none';\n",
              "\n",
              "      async function convertToInteractive(key) {\n",
              "        const element = document.querySelector('#df-065b103f-df43-466d-bb16-395b37771697');\n",
              "        const dataTable =\n",
              "          await google.colab.kernel.invokeFunction('convertToInteractive',\n",
              "                                                    [key], {});\n",
              "        if (!dataTable) return;\n",
              "\n",
              "        const docLinkHtml = 'Like what you see? Visit the ' +\n",
              "          '<a target=\"_blank\" href=https://colab.research.google.com/notebooks/data_table.ipynb>data table notebook</a>'\n",
              "          + ' to learn more about interactive tables.';\n",
              "        element.innerHTML = '';\n",
              "        dataTable['output_type'] = 'display_data';\n",
              "        await google.colab.output.renderOutput(dataTable, element);\n",
              "        const docLink = document.createElement('div');\n",
              "        docLink.innerHTML = docLinkHtml;\n",
              "        element.appendChild(docLink);\n",
              "      }\n",
              "    </script>\n",
              "  </div>\n",
              "\n",
              "\n",
              "<div id=\"df-42ea895a-60fa-4e85-8ef2-ecc4c4e77e79\">\n",
              "  <button class=\"colab-df-quickchart\" onclick=\"quickchart('df-42ea895a-60fa-4e85-8ef2-ecc4c4e77e79')\"\n",
              "            title=\"Suggest charts\"\n",
              "            style=\"display:none;\">\n",
              "\n",
              "<svg xmlns=\"http://www.w3.org/2000/svg\" height=\"24px\"viewBox=\"0 0 24 24\"\n",
              "     width=\"24px\">\n",
              "    <g>\n",
              "        <path d=\"M19 3H5c-1.1 0-2 .9-2 2v14c0 1.1.9 2 2 2h14c1.1 0 2-.9 2-2V5c0-1.1-.9-2-2-2zM9 17H7v-7h2v7zm4 0h-2V7h2v10zm4 0h-2v-4h2v4z\"/>\n",
              "    </g>\n",
              "</svg>\n",
              "  </button>\n",
              "\n",
              "<style>\n",
              "  .colab-df-quickchart {\n",
              "      --bg-color: #E8F0FE;\n",
              "      --fill-color: #1967D2;\n",
              "      --hover-bg-color: #E2EBFA;\n",
              "      --hover-fill-color: #174EA6;\n",
              "      --disabled-fill-color: #AAA;\n",
              "      --disabled-bg-color: #DDD;\n",
              "  }\n",
              "\n",
              "  [theme=dark] .colab-df-quickchart {\n",
              "      --bg-color: #3B4455;\n",
              "      --fill-color: #D2E3FC;\n",
              "      --hover-bg-color: #434B5C;\n",
              "      --hover-fill-color: #FFFFFF;\n",
              "      --disabled-bg-color: #3B4455;\n",
              "      --disabled-fill-color: #666;\n",
              "  }\n",
              "\n",
              "  .colab-df-quickchart {\n",
              "    background-color: var(--bg-color);\n",
              "    border: none;\n",
              "    border-radius: 50%;\n",
              "    cursor: pointer;\n",
              "    display: none;\n",
              "    fill: var(--fill-color);\n",
              "    height: 32px;\n",
              "    padding: 0;\n",
              "    width: 32px;\n",
              "  }\n",
              "\n",
              "  .colab-df-quickchart:hover {\n",
              "    background-color: var(--hover-bg-color);\n",
              "    box-shadow: 0 1px 2px rgba(60, 64, 67, 0.3), 0 1px 3px 1px rgba(60, 64, 67, 0.15);\n",
              "    fill: var(--button-hover-fill-color);\n",
              "  }\n",
              "\n",
              "  .colab-df-quickchart-complete:disabled,\n",
              "  .colab-df-quickchart-complete:disabled:hover {\n",
              "    background-color: var(--disabled-bg-color);\n",
              "    fill: var(--disabled-fill-color);\n",
              "    box-shadow: none;\n",
              "  }\n",
              "\n",
              "  .colab-df-spinner {\n",
              "    border: 2px solid var(--fill-color);\n",
              "    border-color: transparent;\n",
              "    border-bottom-color: var(--fill-color);\n",
              "    animation:\n",
              "      spin 1s steps(1) infinite;\n",
              "  }\n",
              "\n",
              "  @keyframes spin {\n",
              "    0% {\n",
              "      border-color: transparent;\n",
              "      border-bottom-color: var(--fill-color);\n",
              "      border-left-color: var(--fill-color);\n",
              "    }\n",
              "    20% {\n",
              "      border-color: transparent;\n",
              "      border-left-color: var(--fill-color);\n",
              "      border-top-color: var(--fill-color);\n",
              "    }\n",
              "    30% {\n",
              "      border-color: transparent;\n",
              "      border-left-color: var(--fill-color);\n",
              "      border-top-color: var(--fill-color);\n",
              "      border-right-color: var(--fill-color);\n",
              "    }\n",
              "    40% {\n",
              "      border-color: transparent;\n",
              "      border-right-color: var(--fill-color);\n",
              "      border-top-color: var(--fill-color);\n",
              "    }\n",
              "    60% {\n",
              "      border-color: transparent;\n",
              "      border-right-color: var(--fill-color);\n",
              "    }\n",
              "    80% {\n",
              "      border-color: transparent;\n",
              "      border-right-color: var(--fill-color);\n",
              "      border-bottom-color: var(--fill-color);\n",
              "    }\n",
              "    90% {\n",
              "      border-color: transparent;\n",
              "      border-bottom-color: var(--fill-color);\n",
              "    }\n",
              "  }\n",
              "</style>\n",
              "\n",
              "  <script>\n",
              "    async function quickchart(key) {\n",
              "      const quickchartButtonEl =\n",
              "        document.querySelector('#' + key + ' button');\n",
              "      quickchartButtonEl.disabled = true;  // To prevent multiple clicks.\n",
              "      quickchartButtonEl.classList.add('colab-df-spinner');\n",
              "      try {\n",
              "        const charts = await google.colab.kernel.invokeFunction(\n",
              "            'suggestCharts', [key], {});\n",
              "      } catch (error) {\n",
              "        console.error('Error during call to suggestCharts:', error);\n",
              "      }\n",
              "      quickchartButtonEl.classList.remove('colab-df-spinner');\n",
              "      quickchartButtonEl.classList.add('colab-df-quickchart-complete');\n",
              "    }\n",
              "    (() => {\n",
              "      let quickchartButtonEl =\n",
              "        document.querySelector('#df-42ea895a-60fa-4e85-8ef2-ecc4c4e77e79 button');\n",
              "      quickchartButtonEl.style.display =\n",
              "        google.colab.kernel.accessAllowed ? 'block' : 'none';\n",
              "    })();\n",
              "  </script>\n",
              "</div>\n",
              "    </div>\n",
              "  </div>\n"
            ],
            "application/vnd.google.colaboratory.intrinsic+json": {
              "type": "dataframe",
              "variable_name": "datos",
              "summary": "{\n  \"name\": \"datos\",\n  \"rows\": 96453,\n  \"fields\": [\n    {\n      \"column\": \"Formatted Date\",\n      \"properties\": {\n        \"dtype\": \"object\",\n        \"num_unique_values\": 96429,\n        \"samples\": [\n          \"2008-10-17 17:00:00.000 +0200\",\n          \"2014-11-02 03:00:00.000 +0100\",\n          \"2008-06-18 01:00:00.000 +0200\"\n        ],\n        \"semantic_type\": \"\",\n        \"description\": \"\"\n      }\n    },\n    {\n      \"column\": \"Summary\",\n      \"properties\": {\n        \"dtype\": \"category\",\n        \"num_unique_values\": 27,\n        \"samples\": [\n          \"Humid and Mostly Cloudy\",\n          \"Windy and Partly Cloudy\",\n          \"Humid and Partly Cloudy\"\n        ],\n        \"semantic_type\": \"\",\n        \"description\": \"\"\n      }\n    },\n    {\n      \"column\": \"Precip Type\",\n      \"properties\": {\n        \"dtype\": \"category\",\n        \"num_unique_values\": 2,\n        \"samples\": [\n          \"snow\",\n          \"rain\"\n        ],\n        \"semantic_type\": \"\",\n        \"description\": \"\"\n      }\n    },\n    {\n      \"column\": \"Temperature (C)\",\n      \"properties\": {\n        \"dtype\": \"number\",\n        \"std\": 9.551546320657026,\n        \"min\": -21.822222222222223,\n        \"max\": 39.90555555555555,\n        \"num_unique_values\": 7574,\n        \"samples\": [\n          34.8111111111111,\n          14.955555555555556\n        ],\n        \"semantic_type\": \"\",\n        \"description\": \"\"\n      }\n    },\n    {\n      \"column\": \"Apparent Temperature (C)\",\n      \"properties\": {\n        \"dtype\": \"number\",\n        \"std\": 10.696847392119196,\n        \"min\": -27.716666666666665,\n        \"max\": 39.34444444444444,\n        \"num_unique_values\": 8984,\n        \"samples\": [\n          32.01111111111111,\n          3.1611111111111097\n        ],\n        \"semantic_type\": \"\",\n        \"description\": \"\"\n      }\n    },\n    {\n      \"column\": \"Humidity\",\n      \"properties\": {\n        \"dtype\": \"number\",\n        \"std\": 0.1954727390672154,\n        \"min\": 0.0,\n        \"max\": 1.0,\n        \"num_unique_values\": 90,\n        \"samples\": [\n          0.81,\n          0.8\n        ],\n        \"semantic_type\": \"\",\n        \"description\": \"\"\n      }\n    },\n    {\n      \"column\": \"Wind Speed (km/h)\",\n      \"properties\": {\n        \"dtype\": \"number\",\n        \"std\": 6.913571012591992,\n        \"min\": 0.0,\n        \"max\": 63.8526,\n        \"num_unique_values\": 2484,\n        \"samples\": [\n          23.3611,\n          33.1016\n        ],\n        \"semantic_type\": \"\",\n        \"description\": \"\"\n      }\n    },\n    {\n      \"column\": \"Wind Bearing (degrees)\",\n      \"properties\": {\n        \"dtype\": \"number\",\n        \"std\": 107.38342838070584,\n        \"min\": 0.0,\n        \"max\": 359.0,\n        \"num_unique_values\": 360,\n        \"samples\": [\n          128.0,\n          15.0\n        ],\n        \"semantic_type\": \"\",\n        \"description\": \"\"\n      }\n    },\n    {\n      \"column\": \"Visibility (km)\",\n      \"properties\": {\n        \"dtype\": \"number\",\n        \"std\": 4.192123191422782,\n        \"min\": 0.0,\n        \"max\": 16.1,\n        \"num_unique_values\": 949,\n        \"samples\": [\n          4.395300000000001,\n          6.6332\n        ],\n        \"semantic_type\": \"\",\n        \"description\": \"\"\n      }\n    },\n    {\n      \"column\": \"Loud Cover\",\n      \"properties\": {\n        \"dtype\": \"number\",\n        \"std\": 0.0,\n        \"min\": 0.0,\n        \"max\": 0.0,\n        \"num_unique_values\": 1,\n        \"samples\": [\n          0.0\n        ],\n        \"semantic_type\": \"\",\n        \"description\": \"\"\n      }\n    },\n    {\n      \"column\": \"Pressure (millibars)\",\n      \"properties\": {\n        \"dtype\": \"number\",\n        \"std\": 116.96990568258018,\n        \"min\": 0.0,\n        \"max\": 1046.38,\n        \"num_unique_values\": 4979,\n        \"samples\": [\n          987.38\n        ],\n        \"semantic_type\": \"\",\n        \"description\": \"\"\n      }\n    },\n    {\n      \"column\": \"Daily Summary\",\n      \"properties\": {\n        \"dtype\": \"category\",\n        \"num_unique_values\": 214,\n        \"samples\": [\n          \"Partly cloudy until evening.\"\n        ],\n        \"semantic_type\": \"\",\n        \"description\": \"\"\n      }\n    }\n  ]\n}"
            }
          },
          "metadata": {},
          "execution_count": 4
        }
      ]
    },
    {
      "cell_type": "markdown",
      "source": [
        "Comprobamos que se han importado correctamente todos los datos:"
      ],
      "metadata": {
        "id": "ZhYrtySvJEGQ"
      },
      "id": "ZhYrtySvJEGQ"
    },
    {
      "cell_type": "code",
      "source": [
        "datos.shape"
      ],
      "metadata": {
        "colab": {
          "base_uri": "https://localhost:8080/"
        },
        "id": "8sS4GX92G6J8",
        "outputId": "469c5523-7ecd-4e0d-9cfe-47f5801b153b"
      },
      "id": "8sS4GX92G6J8",
      "execution_count": 5,
      "outputs": [
        {
          "output_type": "execute_result",
          "data": {
            "text/plain": [
              "(96453, 12)"
            ]
          },
          "metadata": {},
          "execution_count": 5
        }
      ]
    },
    {
      "cell_type": "markdown",
      "source": [
        "Comprobamos el tipo de dato que se da en cada una de las características"
      ],
      "metadata": {
        "id": "RYHJ98mUKTMb"
      },
      "id": "RYHJ98mUKTMb"
    },
    {
      "cell_type": "code",
      "source": [
        "datos.dtypes"
      ],
      "metadata": {
        "id": "1bAlhE4d8mVo",
        "outputId": "60cb4020-30a0-40dd-dd94-22b7edabe055",
        "colab": {
          "base_uri": "https://localhost:8080/"
        }
      },
      "id": "1bAlhE4d8mVo",
      "execution_count": 6,
      "outputs": [
        {
          "output_type": "execute_result",
          "data": {
            "text/plain": [
              "Formatted Date               object\n",
              "Summary                      object\n",
              "Precip Type                  object\n",
              "Temperature (C)             float64\n",
              "Apparent Temperature (C)    float64\n",
              "Humidity                    float64\n",
              "Wind Speed (km/h)           float64\n",
              "Wind Bearing (degrees)      float64\n",
              "Visibility (km)             float64\n",
              "Loud Cover                  float64\n",
              "Pressure (millibars)        float64\n",
              "Daily Summary                object\n",
              "dtype: object"
            ]
          },
          "metadata": {},
          "execution_count": 6
        }
      ]
    },
    {
      "cell_type": "markdown",
      "source": [
        "Se procede a verificar la existencia de valores nulos en los datos, con el objetivo de determinar si es necesario eliminar alguno de estos registros para asegurar el correcto funcionamiento de la red neuronal.\n",
        "\n",
        "Asimismo, se examinan las columnas para identificar aquellas que contengan un único valor constante, ya que serían irrelevantes para el desarrollo de la red."
      ],
      "metadata": {
        "id": "HdIOhtlkKe61"
      },
      "id": "HdIOhtlkKe61"
    },
    {
      "cell_type": "code",
      "source": [
        "for c in datos.columns:\n",
        "    print(\"Missing values [{0}]:\".format(c), datos[c].isna().sum())\n",
        "print()\n",
        "for c in datos.columns:\n",
        "    print(\"Unique values [{0}]:\".format(c), datos[c].unique().size)"
      ],
      "metadata": {
        "colab": {
          "base_uri": "https://localhost:8080/"
        },
        "id": "RjRvBy8m_XbR",
        "outputId": "ea2f3a8d-5982-4671-c908-39ec5179183b"
      },
      "id": "RjRvBy8m_XbR",
      "execution_count": 7,
      "outputs": [
        {
          "output_type": "stream",
          "name": "stdout",
          "text": [
            "Missing values [Formatted Date]: 0\n",
            "Missing values [Summary]: 0\n",
            "Missing values [Precip Type]: 517\n",
            "Missing values [Temperature (C)]: 0\n",
            "Missing values [Apparent Temperature (C)]: 0\n",
            "Missing values [Humidity]: 0\n",
            "Missing values [Wind Speed (km/h)]: 0\n",
            "Missing values [Wind Bearing (degrees)]: 0\n",
            "Missing values [Visibility (km)]: 0\n",
            "Missing values [Loud Cover]: 0\n",
            "Missing values [Pressure (millibars)]: 0\n",
            "Missing values [Daily Summary]: 0\n",
            "\n",
            "Unique values [Formatted Date]: 96429\n",
            "Unique values [Summary]: 27\n",
            "Unique values [Precip Type]: 3\n",
            "Unique values [Temperature (C)]: 7574\n",
            "Unique values [Apparent Temperature (C)]: 8984\n",
            "Unique values [Humidity]: 90\n",
            "Unique values [Wind Speed (km/h)]: 2484\n",
            "Unique values [Wind Bearing (degrees)]: 360\n",
            "Unique values [Visibility (km)]: 949\n",
            "Unique values [Loud Cover]: 1\n",
            "Unique values [Pressure (millibars)]: 4979\n",
            "Unique values [Daily Summary]: 214\n"
          ]
        }
      ]
    },
    {
      "cell_type": "markdown",
      "source": [
        "Dado que se ha detectado la existencia de 517 registros con valores nulos, es necesario eliminarlos de la base de datos para garantizar la integridad y el correcto funcionamiento de la red neuronal."
      ],
      "metadata": {
        "id": "g0yilykUK2qB"
      },
      "id": "g0yilykUK2qB"
    },
    {
      "cell_type": "code",
      "source": [
        "datos=datos.dropna()"
      ],
      "metadata": {
        "id": "pywK9A1N6dDL"
      },
      "id": "pywK9A1N6dDL",
      "execution_count": 8,
      "outputs": []
    },
    {
      "cell_type": "markdown",
      "source": [
        "Se verifica nuevamente el número de registros para confirmar que las filas con valores nulos han sido eliminadas correctamente."
      ],
      "metadata": {
        "id": "_8BvNyKDLC0J"
      },
      "id": "_8BvNyKDLC0J"
    },
    {
      "cell_type": "code",
      "source": [
        "datos.shape"
      ],
      "metadata": {
        "colab": {
          "base_uri": "https://localhost:8080/"
        },
        "id": "M5J56LwP_PPq",
        "outputId": "6bddcf28-0c91-4db5-d2cb-20d1797785fc"
      },
      "id": "M5J56LwP_PPq",
      "execution_count": 9,
      "outputs": [
        {
          "output_type": "execute_result",
          "data": {
            "text/plain": [
              "(95936, 12)"
            ]
          },
          "metadata": {},
          "execution_count": 9
        }
      ]
    },
    {
      "cell_type": "markdown",
      "source": [
        "Una vez eliminados los registros nulos, es necesario categorizar las características que no son numéricas. Por lo tanto, se procede a categorizar las características 'Summary' y 'Precip Type'."
      ],
      "metadata": {
        "id": "hBI606XYLXl8"
      },
      "id": "hBI606XYLXl8"
    },
    {
      "cell_type": "code",
      "source": [
        "datos['Summary'] = datos['Summary'].astype('category').cat.codes\n",
        "datos['Precip Type'] = datos['Precip Type'].astype('category').cat.codes"
      ],
      "metadata": {
        "id": "fcoQmcg26f6t",
        "colab": {
          "base_uri": "https://localhost:8080/"
        },
        "outputId": "2ef457bd-0f39-437f-bbfd-3b95b45d4c11"
      },
      "id": "fcoQmcg26f6t",
      "execution_count": 10,
      "outputs": [
        {
          "output_type": "stream",
          "name": "stderr",
          "text": [
            "<ipython-input-10-32c981bdee10>:1: SettingWithCopyWarning: \n",
            "A value is trying to be set on a copy of a slice from a DataFrame.\n",
            "Try using .loc[row_indexer,col_indexer] = value instead\n",
            "\n",
            "See the caveats in the documentation: https://pandas.pydata.org/pandas-docs/stable/user_guide/indexing.html#returning-a-view-versus-a-copy\n",
            "  datos['Summary'] = datos['Summary'].astype('category').cat.codes\n",
            "<ipython-input-10-32c981bdee10>:2: SettingWithCopyWarning: \n",
            "A value is trying to be set on a copy of a slice from a DataFrame.\n",
            "Try using .loc[row_indexer,col_indexer] = value instead\n",
            "\n",
            "See the caveats in the documentation: https://pandas.pydata.org/pandas-docs/stable/user_guide/indexing.html#returning-a-view-versus-a-copy\n",
            "  datos['Precip Type'] = datos['Precip Type'].astype('category').cat.codes\n"
          ]
        }
      ]
    },
    {
      "cell_type": "markdown",
      "source": [
        "Se cambian los nombres de las columnas con el fin de facilitar el trabajo"
      ],
      "metadata": {
        "id": "3HUq9aPfL9YL"
      },
      "id": "3HUq9aPfL9YL"
    },
    {
      "cell_type": "code",
      "source": [
        "datos.columns = ['Fecha','Summary','LLuvia','Temperatura','T ambiente','Humedad', 'Vel_viento','Viraje viento','Visibilidad','loud cover','Presión','Datos']\n",
        "datos"
      ],
      "metadata": {
        "id": "IdKS-HNi79rp",
        "outputId": "8bea6a6e-ed66-488a-9fa2-65776d9da0d1",
        "colab": {
          "base_uri": "https://localhost:8080/",
          "height": 788
        }
      },
      "id": "IdKS-HNi79rp",
      "execution_count": 11,
      "outputs": [
        {
          "output_type": "execute_result",
          "data": {
            "text/plain": [
              "                               Fecha  Summary  LLuvia  Temperatura  \\\n",
              "0      2006-04-01 00:00:00.000 +0200       19       0     9.472222   \n",
              "1      2006-04-01 01:00:00.000 +0200       19       0     9.355556   \n",
              "2      2006-04-01 02:00:00.000 +0200       17       0     9.377778   \n",
              "3      2006-04-01 03:00:00.000 +0200       19       0     8.288889   \n",
              "4      2006-04-01 04:00:00.000 +0200       17       0     8.755556   \n",
              "...                              ...      ...     ...          ...   \n",
              "96448  2016-09-09 19:00:00.000 +0200       19       0    26.016667   \n",
              "96449  2016-09-09 20:00:00.000 +0200       19       0    24.583333   \n",
              "96450  2016-09-09 21:00:00.000 +0200       19       0    22.038889   \n",
              "96451  2016-09-09 22:00:00.000 +0200       19       0    21.522222   \n",
              "96452  2016-09-09 23:00:00.000 +0200       19       0    20.438889   \n",
              "\n",
              "       T ambiente  Humedad  Vel_viento  Viraje viento  Visibilidad  \\\n",
              "0        7.388889     0.89     14.1197          251.0      15.8263   \n",
              "1        7.227778     0.86     14.2646          259.0      15.8263   \n",
              "2        9.377778     0.89      3.9284          204.0      14.9569   \n",
              "3        5.944444     0.83     14.1036          269.0      15.8263   \n",
              "4        6.977778     0.83     11.0446          259.0      15.8263   \n",
              "...           ...      ...         ...            ...          ...   \n",
              "96448   26.016667     0.43     10.9963           31.0      16.1000   \n",
              "96449   24.583333     0.48     10.0947           20.0      15.5526   \n",
              "96450   22.038889     0.56      8.9838           30.0      16.1000   \n",
              "96451   21.522222     0.60     10.5294           20.0      16.1000   \n",
              "96452   20.438889     0.61      5.8765           39.0      15.5204   \n",
              "\n",
              "       loud cover  Presión                                   Datos  \n",
              "0             0.0  1015.13       Partly cloudy throughout the day.  \n",
              "1             0.0  1015.63       Partly cloudy throughout the day.  \n",
              "2             0.0  1015.94       Partly cloudy throughout the day.  \n",
              "3             0.0  1016.41       Partly cloudy throughout the day.  \n",
              "4             0.0  1016.51       Partly cloudy throughout the day.  \n",
              "...           ...      ...                                     ...  \n",
              "96448         0.0  1014.36  Partly cloudy starting in the morning.  \n",
              "96449         0.0  1015.16  Partly cloudy starting in the morning.  \n",
              "96450         0.0  1015.66  Partly cloudy starting in the morning.  \n",
              "96451         0.0  1015.95  Partly cloudy starting in the morning.  \n",
              "96452         0.0  1016.16  Partly cloudy starting in the morning.  \n",
              "\n",
              "[95936 rows x 12 columns]"
            ],
            "text/html": [
              "\n",
              "  <div id=\"df-86a71a57-2f3f-48ae-8bbb-fd7ca844d457\" class=\"colab-df-container\">\n",
              "    <div>\n",
              "<style scoped>\n",
              "    .dataframe tbody tr th:only-of-type {\n",
              "        vertical-align: middle;\n",
              "    }\n",
              "\n",
              "    .dataframe tbody tr th {\n",
              "        vertical-align: top;\n",
              "    }\n",
              "\n",
              "    .dataframe thead th {\n",
              "        text-align: right;\n",
              "    }\n",
              "</style>\n",
              "<table border=\"1\" class=\"dataframe\">\n",
              "  <thead>\n",
              "    <tr style=\"text-align: right;\">\n",
              "      <th></th>\n",
              "      <th>Fecha</th>\n",
              "      <th>Summary</th>\n",
              "      <th>LLuvia</th>\n",
              "      <th>Temperatura</th>\n",
              "      <th>T ambiente</th>\n",
              "      <th>Humedad</th>\n",
              "      <th>Vel_viento</th>\n",
              "      <th>Viraje viento</th>\n",
              "      <th>Visibilidad</th>\n",
              "      <th>loud cover</th>\n",
              "      <th>Presión</th>\n",
              "      <th>Datos</th>\n",
              "    </tr>\n",
              "  </thead>\n",
              "  <tbody>\n",
              "    <tr>\n",
              "      <th>0</th>\n",
              "      <td>2006-04-01 00:00:00.000 +0200</td>\n",
              "      <td>19</td>\n",
              "      <td>0</td>\n",
              "      <td>9.472222</td>\n",
              "      <td>7.388889</td>\n",
              "      <td>0.89</td>\n",
              "      <td>14.1197</td>\n",
              "      <td>251.0</td>\n",
              "      <td>15.8263</td>\n",
              "      <td>0.0</td>\n",
              "      <td>1015.13</td>\n",
              "      <td>Partly cloudy throughout the day.</td>\n",
              "    </tr>\n",
              "    <tr>\n",
              "      <th>1</th>\n",
              "      <td>2006-04-01 01:00:00.000 +0200</td>\n",
              "      <td>19</td>\n",
              "      <td>0</td>\n",
              "      <td>9.355556</td>\n",
              "      <td>7.227778</td>\n",
              "      <td>0.86</td>\n",
              "      <td>14.2646</td>\n",
              "      <td>259.0</td>\n",
              "      <td>15.8263</td>\n",
              "      <td>0.0</td>\n",
              "      <td>1015.63</td>\n",
              "      <td>Partly cloudy throughout the day.</td>\n",
              "    </tr>\n",
              "    <tr>\n",
              "      <th>2</th>\n",
              "      <td>2006-04-01 02:00:00.000 +0200</td>\n",
              "      <td>17</td>\n",
              "      <td>0</td>\n",
              "      <td>9.377778</td>\n",
              "      <td>9.377778</td>\n",
              "      <td>0.89</td>\n",
              "      <td>3.9284</td>\n",
              "      <td>204.0</td>\n",
              "      <td>14.9569</td>\n",
              "      <td>0.0</td>\n",
              "      <td>1015.94</td>\n",
              "      <td>Partly cloudy throughout the day.</td>\n",
              "    </tr>\n",
              "    <tr>\n",
              "      <th>3</th>\n",
              "      <td>2006-04-01 03:00:00.000 +0200</td>\n",
              "      <td>19</td>\n",
              "      <td>0</td>\n",
              "      <td>8.288889</td>\n",
              "      <td>5.944444</td>\n",
              "      <td>0.83</td>\n",
              "      <td>14.1036</td>\n",
              "      <td>269.0</td>\n",
              "      <td>15.8263</td>\n",
              "      <td>0.0</td>\n",
              "      <td>1016.41</td>\n",
              "      <td>Partly cloudy throughout the day.</td>\n",
              "    </tr>\n",
              "    <tr>\n",
              "      <th>4</th>\n",
              "      <td>2006-04-01 04:00:00.000 +0200</td>\n",
              "      <td>17</td>\n",
              "      <td>0</td>\n",
              "      <td>8.755556</td>\n",
              "      <td>6.977778</td>\n",
              "      <td>0.83</td>\n",
              "      <td>11.0446</td>\n",
              "      <td>259.0</td>\n",
              "      <td>15.8263</td>\n",
              "      <td>0.0</td>\n",
              "      <td>1016.51</td>\n",
              "      <td>Partly cloudy throughout the day.</td>\n",
              "    </tr>\n",
              "    <tr>\n",
              "      <th>...</th>\n",
              "      <td>...</td>\n",
              "      <td>...</td>\n",
              "      <td>...</td>\n",
              "      <td>...</td>\n",
              "      <td>...</td>\n",
              "      <td>...</td>\n",
              "      <td>...</td>\n",
              "      <td>...</td>\n",
              "      <td>...</td>\n",
              "      <td>...</td>\n",
              "      <td>...</td>\n",
              "      <td>...</td>\n",
              "    </tr>\n",
              "    <tr>\n",
              "      <th>96448</th>\n",
              "      <td>2016-09-09 19:00:00.000 +0200</td>\n",
              "      <td>19</td>\n",
              "      <td>0</td>\n",
              "      <td>26.016667</td>\n",
              "      <td>26.016667</td>\n",
              "      <td>0.43</td>\n",
              "      <td>10.9963</td>\n",
              "      <td>31.0</td>\n",
              "      <td>16.1000</td>\n",
              "      <td>0.0</td>\n",
              "      <td>1014.36</td>\n",
              "      <td>Partly cloudy starting in the morning.</td>\n",
              "    </tr>\n",
              "    <tr>\n",
              "      <th>96449</th>\n",
              "      <td>2016-09-09 20:00:00.000 +0200</td>\n",
              "      <td>19</td>\n",
              "      <td>0</td>\n",
              "      <td>24.583333</td>\n",
              "      <td>24.583333</td>\n",
              "      <td>0.48</td>\n",
              "      <td>10.0947</td>\n",
              "      <td>20.0</td>\n",
              "      <td>15.5526</td>\n",
              "      <td>0.0</td>\n",
              "      <td>1015.16</td>\n",
              "      <td>Partly cloudy starting in the morning.</td>\n",
              "    </tr>\n",
              "    <tr>\n",
              "      <th>96450</th>\n",
              "      <td>2016-09-09 21:00:00.000 +0200</td>\n",
              "      <td>19</td>\n",
              "      <td>0</td>\n",
              "      <td>22.038889</td>\n",
              "      <td>22.038889</td>\n",
              "      <td>0.56</td>\n",
              "      <td>8.9838</td>\n",
              "      <td>30.0</td>\n",
              "      <td>16.1000</td>\n",
              "      <td>0.0</td>\n",
              "      <td>1015.66</td>\n",
              "      <td>Partly cloudy starting in the morning.</td>\n",
              "    </tr>\n",
              "    <tr>\n",
              "      <th>96451</th>\n",
              "      <td>2016-09-09 22:00:00.000 +0200</td>\n",
              "      <td>19</td>\n",
              "      <td>0</td>\n",
              "      <td>21.522222</td>\n",
              "      <td>21.522222</td>\n",
              "      <td>0.60</td>\n",
              "      <td>10.5294</td>\n",
              "      <td>20.0</td>\n",
              "      <td>16.1000</td>\n",
              "      <td>0.0</td>\n",
              "      <td>1015.95</td>\n",
              "      <td>Partly cloudy starting in the morning.</td>\n",
              "    </tr>\n",
              "    <tr>\n",
              "      <th>96452</th>\n",
              "      <td>2016-09-09 23:00:00.000 +0200</td>\n",
              "      <td>19</td>\n",
              "      <td>0</td>\n",
              "      <td>20.438889</td>\n",
              "      <td>20.438889</td>\n",
              "      <td>0.61</td>\n",
              "      <td>5.8765</td>\n",
              "      <td>39.0</td>\n",
              "      <td>15.5204</td>\n",
              "      <td>0.0</td>\n",
              "      <td>1016.16</td>\n",
              "      <td>Partly cloudy starting in the morning.</td>\n",
              "    </tr>\n",
              "  </tbody>\n",
              "</table>\n",
              "<p>95936 rows × 12 columns</p>\n",
              "</div>\n",
              "    <div class=\"colab-df-buttons\">\n",
              "\n",
              "  <div class=\"colab-df-container\">\n",
              "    <button class=\"colab-df-convert\" onclick=\"convertToInteractive('df-86a71a57-2f3f-48ae-8bbb-fd7ca844d457')\"\n",
              "            title=\"Convert this dataframe to an interactive table.\"\n",
              "            style=\"display:none;\">\n",
              "\n",
              "  <svg xmlns=\"http://www.w3.org/2000/svg\" height=\"24px\" viewBox=\"0 -960 960 960\">\n",
              "    <path d=\"M120-120v-720h720v720H120Zm60-500h600v-160H180v160Zm220 220h160v-160H400v160Zm0 220h160v-160H400v160ZM180-400h160v-160H180v160Zm440 0h160v-160H620v160ZM180-180h160v-160H180v160Zm440 0h160v-160H620v160Z\"/>\n",
              "  </svg>\n",
              "    </button>\n",
              "\n",
              "  <style>\n",
              "    .colab-df-container {\n",
              "      display:flex;\n",
              "      gap: 12px;\n",
              "    }\n",
              "\n",
              "    .colab-df-convert {\n",
              "      background-color: #E8F0FE;\n",
              "      border: none;\n",
              "      border-radius: 50%;\n",
              "      cursor: pointer;\n",
              "      display: none;\n",
              "      fill: #1967D2;\n",
              "      height: 32px;\n",
              "      padding: 0 0 0 0;\n",
              "      width: 32px;\n",
              "    }\n",
              "\n",
              "    .colab-df-convert:hover {\n",
              "      background-color: #E2EBFA;\n",
              "      box-shadow: 0px 1px 2px rgba(60, 64, 67, 0.3), 0px 1px 3px 1px rgba(60, 64, 67, 0.15);\n",
              "      fill: #174EA6;\n",
              "    }\n",
              "\n",
              "    .colab-df-buttons div {\n",
              "      margin-bottom: 4px;\n",
              "    }\n",
              "\n",
              "    [theme=dark] .colab-df-convert {\n",
              "      background-color: #3B4455;\n",
              "      fill: #D2E3FC;\n",
              "    }\n",
              "\n",
              "    [theme=dark] .colab-df-convert:hover {\n",
              "      background-color: #434B5C;\n",
              "      box-shadow: 0px 1px 3px 1px rgba(0, 0, 0, 0.15);\n",
              "      filter: drop-shadow(0px 1px 2px rgba(0, 0, 0, 0.3));\n",
              "      fill: #FFFFFF;\n",
              "    }\n",
              "  </style>\n",
              "\n",
              "    <script>\n",
              "      const buttonEl =\n",
              "        document.querySelector('#df-86a71a57-2f3f-48ae-8bbb-fd7ca844d457 button.colab-df-convert');\n",
              "      buttonEl.style.display =\n",
              "        google.colab.kernel.accessAllowed ? 'block' : 'none';\n",
              "\n",
              "      async function convertToInteractive(key) {\n",
              "        const element = document.querySelector('#df-86a71a57-2f3f-48ae-8bbb-fd7ca844d457');\n",
              "        const dataTable =\n",
              "          await google.colab.kernel.invokeFunction('convertToInteractive',\n",
              "                                                    [key], {});\n",
              "        if (!dataTable) return;\n",
              "\n",
              "        const docLinkHtml = 'Like what you see? Visit the ' +\n",
              "          '<a target=\"_blank\" href=https://colab.research.google.com/notebooks/data_table.ipynb>data table notebook</a>'\n",
              "          + ' to learn more about interactive tables.';\n",
              "        element.innerHTML = '';\n",
              "        dataTable['output_type'] = 'display_data';\n",
              "        await google.colab.output.renderOutput(dataTable, element);\n",
              "        const docLink = document.createElement('div');\n",
              "        docLink.innerHTML = docLinkHtml;\n",
              "        element.appendChild(docLink);\n",
              "      }\n",
              "    </script>\n",
              "  </div>\n",
              "\n",
              "\n",
              "<div id=\"df-2200170d-1b12-45d8-9721-6d61161d339e\">\n",
              "  <button class=\"colab-df-quickchart\" onclick=\"quickchart('df-2200170d-1b12-45d8-9721-6d61161d339e')\"\n",
              "            title=\"Suggest charts\"\n",
              "            style=\"display:none;\">\n",
              "\n",
              "<svg xmlns=\"http://www.w3.org/2000/svg\" height=\"24px\"viewBox=\"0 0 24 24\"\n",
              "     width=\"24px\">\n",
              "    <g>\n",
              "        <path d=\"M19 3H5c-1.1 0-2 .9-2 2v14c0 1.1.9 2 2 2h14c1.1 0 2-.9 2-2V5c0-1.1-.9-2-2-2zM9 17H7v-7h2v7zm4 0h-2V7h2v10zm4 0h-2v-4h2v4z\"/>\n",
              "    </g>\n",
              "</svg>\n",
              "  </button>\n",
              "\n",
              "<style>\n",
              "  .colab-df-quickchart {\n",
              "      --bg-color: #E8F0FE;\n",
              "      --fill-color: #1967D2;\n",
              "      --hover-bg-color: #E2EBFA;\n",
              "      --hover-fill-color: #174EA6;\n",
              "      --disabled-fill-color: #AAA;\n",
              "      --disabled-bg-color: #DDD;\n",
              "  }\n",
              "\n",
              "  [theme=dark] .colab-df-quickchart {\n",
              "      --bg-color: #3B4455;\n",
              "      --fill-color: #D2E3FC;\n",
              "      --hover-bg-color: #434B5C;\n",
              "      --hover-fill-color: #FFFFFF;\n",
              "      --disabled-bg-color: #3B4455;\n",
              "      --disabled-fill-color: #666;\n",
              "  }\n",
              "\n",
              "  .colab-df-quickchart {\n",
              "    background-color: var(--bg-color);\n",
              "    border: none;\n",
              "    border-radius: 50%;\n",
              "    cursor: pointer;\n",
              "    display: none;\n",
              "    fill: var(--fill-color);\n",
              "    height: 32px;\n",
              "    padding: 0;\n",
              "    width: 32px;\n",
              "  }\n",
              "\n",
              "  .colab-df-quickchart:hover {\n",
              "    background-color: var(--hover-bg-color);\n",
              "    box-shadow: 0 1px 2px rgba(60, 64, 67, 0.3), 0 1px 3px 1px rgba(60, 64, 67, 0.15);\n",
              "    fill: var(--button-hover-fill-color);\n",
              "  }\n",
              "\n",
              "  .colab-df-quickchart-complete:disabled,\n",
              "  .colab-df-quickchart-complete:disabled:hover {\n",
              "    background-color: var(--disabled-bg-color);\n",
              "    fill: var(--disabled-fill-color);\n",
              "    box-shadow: none;\n",
              "  }\n",
              "\n",
              "  .colab-df-spinner {\n",
              "    border: 2px solid var(--fill-color);\n",
              "    border-color: transparent;\n",
              "    border-bottom-color: var(--fill-color);\n",
              "    animation:\n",
              "      spin 1s steps(1) infinite;\n",
              "  }\n",
              "\n",
              "  @keyframes spin {\n",
              "    0% {\n",
              "      border-color: transparent;\n",
              "      border-bottom-color: var(--fill-color);\n",
              "      border-left-color: var(--fill-color);\n",
              "    }\n",
              "    20% {\n",
              "      border-color: transparent;\n",
              "      border-left-color: var(--fill-color);\n",
              "      border-top-color: var(--fill-color);\n",
              "    }\n",
              "    30% {\n",
              "      border-color: transparent;\n",
              "      border-left-color: var(--fill-color);\n",
              "      border-top-color: var(--fill-color);\n",
              "      border-right-color: var(--fill-color);\n",
              "    }\n",
              "    40% {\n",
              "      border-color: transparent;\n",
              "      border-right-color: var(--fill-color);\n",
              "      border-top-color: var(--fill-color);\n",
              "    }\n",
              "    60% {\n",
              "      border-color: transparent;\n",
              "      border-right-color: var(--fill-color);\n",
              "    }\n",
              "    80% {\n",
              "      border-color: transparent;\n",
              "      border-right-color: var(--fill-color);\n",
              "      border-bottom-color: var(--fill-color);\n",
              "    }\n",
              "    90% {\n",
              "      border-color: transparent;\n",
              "      border-bottom-color: var(--fill-color);\n",
              "    }\n",
              "  }\n",
              "</style>\n",
              "\n",
              "  <script>\n",
              "    async function quickchart(key) {\n",
              "      const quickchartButtonEl =\n",
              "        document.querySelector('#' + key + ' button');\n",
              "      quickchartButtonEl.disabled = true;  // To prevent multiple clicks.\n",
              "      quickchartButtonEl.classList.add('colab-df-spinner');\n",
              "      try {\n",
              "        const charts = await google.colab.kernel.invokeFunction(\n",
              "            'suggestCharts', [key], {});\n",
              "      } catch (error) {\n",
              "        console.error('Error during call to suggestCharts:', error);\n",
              "      }\n",
              "      quickchartButtonEl.classList.remove('colab-df-spinner');\n",
              "      quickchartButtonEl.classList.add('colab-df-quickchart-complete');\n",
              "    }\n",
              "    (() => {\n",
              "      let quickchartButtonEl =\n",
              "        document.querySelector('#df-2200170d-1b12-45d8-9721-6d61161d339e button');\n",
              "      quickchartButtonEl.style.display =\n",
              "        google.colab.kernel.accessAllowed ? 'block' : 'none';\n",
              "    })();\n",
              "  </script>\n",
              "</div>\n",
              "    </div>\n",
              "  </div>\n"
            ],
            "application/vnd.google.colaboratory.intrinsic+json": {
              "type": "dataframe",
              "variable_name": "datos",
              "summary": "{\n  \"name\": \"datos\",\n  \"rows\": 95936,\n  \"fields\": [\n    {\n      \"column\": \"Fecha\",\n      \"properties\": {\n        \"dtype\": \"object\",\n        \"num_unique_values\": 95912,\n        \"samples\": [\n          \"2016-03-18 10:00:00.000 +0100\",\n          \"2016-09-11 06:00:00.000 +0200\",\n          \"2011-09-05 08:00:00.000 +0200\"\n        ],\n        \"semantic_type\": \"\",\n        \"description\": \"\"\n      }\n    },\n    {\n      \"column\": \"Summary\",\n      \"properties\": {\n        \"dtype\": \"int8\",\n        \"num_unique_values\": 27,\n        \"samples\": [\n          13,\n          26,\n          15\n        ],\n        \"semantic_type\": \"\",\n        \"description\": \"\"\n      }\n    },\n    {\n      \"column\": \"LLuvia\",\n      \"properties\": {\n        \"dtype\": \"int8\",\n        \"num_unique_values\": 2,\n        \"samples\": [\n          1,\n          0\n        ],\n        \"semantic_type\": \"\",\n        \"description\": \"\"\n      }\n    },\n    {\n      \"column\": \"Temperatura\",\n      \"properties\": {\n        \"dtype\": \"number\",\n        \"std\": 9.570670641872818,\n        \"min\": -21.822222222222223,\n        \"max\": 39.90555555555555,\n        \"num_unique_values\": 7573,\n        \"samples\": [\n          14.794444444444444,\n          14.955555555555556\n        ],\n        \"semantic_type\": \"\",\n        \"description\": \"\"\n      }\n    },\n    {\n      \"column\": \"T ambiente\",\n      \"properties\": {\n        \"dtype\": \"number\",\n        \"std\": 10.717811632278591,\n        \"min\": -27.716666666666665,\n        \"max\": 39.34444444444444,\n        \"num_unique_values\": 8984,\n        \"samples\": [\n          32.01111111111111,\n          3.1611111111111097\n        ],\n        \"semantic_type\": \"\",\n        \"description\": \"\"\n      }\n    },\n    {\n      \"column\": \"Humedad\",\n      \"properties\": {\n        \"dtype\": \"number\",\n        \"std\": 0.19572411994205646,\n        \"min\": 0.0,\n        \"max\": 1.0,\n        \"num_unique_values\": 90,\n        \"samples\": [\n          0.81,\n          0.8\n        ],\n        \"semantic_type\": \"\",\n        \"description\": \"\"\n      }\n    },\n    {\n      \"column\": \"Vel_viento\",\n      \"properties\": {\n        \"dtype\": \"number\",\n        \"std\": 6.920727483690422,\n        \"min\": 0.0,\n        \"max\": 63.8526,\n        \"num_unique_values\": 2484,\n        \"samples\": [\n          23.3611,\n          33.1016\n        ],\n        \"semantic_type\": \"\",\n        \"description\": \"\"\n      }\n    },\n    {\n      \"column\": \"Viraje viento\",\n      \"properties\": {\n        \"dtype\": \"number\",\n        \"std\": 107.3853513190062,\n        \"min\": 0.0,\n        \"max\": 359.0,\n        \"num_unique_values\": 360,\n        \"samples\": [\n          128.0,\n          15.0\n        ],\n        \"semantic_type\": \"\",\n        \"description\": \"\"\n      }\n    },\n    {\n      \"column\": \"Visibilidad\",\n      \"properties\": {\n        \"dtype\": \"number\",\n        \"std\": 4.173779512320718,\n        \"min\": 0.0,\n        \"max\": 16.1,\n        \"num_unique_values\": 949,\n        \"samples\": [\n          4.395300000000001,\n          6.6332\n        ],\n        \"semantic_type\": \"\",\n        \"description\": \"\"\n      }\n    },\n    {\n      \"column\": \"loud cover\",\n      \"properties\": {\n        \"dtype\": \"number\",\n        \"std\": 0.0,\n        \"min\": 0.0,\n        \"max\": 0.0,\n        \"num_unique_values\": 1,\n        \"samples\": [\n          0.0\n        ],\n        \"semantic_type\": \"\",\n        \"description\": \"\"\n      }\n    },\n    {\n      \"column\": \"Presi\\u00f3n\",\n      \"properties\": {\n        \"dtype\": \"number\",\n        \"std\": 117.2769762618533,\n        \"min\": 0.0,\n        \"max\": 1046.38,\n        \"num_unique_values\": 4971,\n        \"samples\": [\n          1011.29\n        ],\n        \"semantic_type\": \"\",\n        \"description\": \"\"\n      }\n    },\n    {\n      \"column\": \"Datos\",\n      \"properties\": {\n        \"dtype\": \"category\",\n        \"num_unique_values\": 214,\n        \"samples\": [\n          \"Partly cloudy until evening.\"\n        ],\n        \"semantic_type\": \"\",\n        \"description\": \"\"\n      }\n    }\n  ]\n}"
            }
          },
          "metadata": {},
          "execution_count": 11
        }
      ]
    },
    {
      "cell_type": "markdown",
      "source": [
        "Se muestra uno de los registros para ver que cumple las modificaciones que se han aplicado a la base de datos inicial"
      ],
      "metadata": {
        "id": "2z2IhV3AMHQx"
      },
      "id": "2z2IhV3AMHQx"
    },
    {
      "cell_type": "code",
      "source": [
        "datos.loc[2]"
      ],
      "metadata": {
        "colab": {
          "base_uri": "https://localhost:8080/"
        },
        "id": "oKoxaw8AjofP",
        "outputId": "4394c838-541c-4746-b64a-3382fa5d8c20"
      },
      "id": "oKoxaw8AjofP",
      "execution_count": 12,
      "outputs": [
        {
          "output_type": "execute_result",
          "data": {
            "text/plain": [
              "Fecha                2006-04-01 02:00:00.000 +0200\n",
              "Summary                                         17\n",
              "LLuvia                                           0\n",
              "Temperatura                               9.377778\n",
              "T ambiente                                9.377778\n",
              "Humedad                                       0.89\n",
              "Vel_viento                                  3.9284\n",
              "Viraje viento                                204.0\n",
              "Visibilidad                                14.9569\n",
              "loud cover                                     0.0\n",
              "Presión                                    1015.94\n",
              "Datos            Partly cloudy throughout the day.\n",
              "Name: 2, dtype: object"
            ]
          },
          "metadata": {},
          "execution_count": 12
        }
      ]
    },
    {
      "cell_type": "markdown",
      "source": [
        "Una vez completado este proceso, se deben generar las etiquetas para cada uno de los registros. Dado que este es un proyecto de aprendizaje supervisado, se selecciona la columna 'Temperature' de la base de datos como etiqueta para cada registro.\n",
        "\n",
        "Se verifica el tamaño de estas etiquetas para asegurarse de que hay una correspondiente a cada registro de entrada.\n"
      ],
      "metadata": {
        "id": "DSpyZcdxLscV"
      },
      "id": "DSpyZcdxLscV"
    },
    {
      "cell_type": "code",
      "source": [
        "labels=datos.Temperatura\n",
        "labels.shape\n"
      ],
      "metadata": {
        "colab": {
          "base_uri": "https://localhost:8080/"
        },
        "id": "ywGEcHJ5ML-g",
        "outputId": "73604dff-1dc7-4fe8-9796-56a2efd32ddd"
      },
      "id": "ywGEcHJ5ML-g",
      "execution_count": 13,
      "outputs": [
        {
          "output_type": "execute_result",
          "data": {
            "text/plain": [
              "(95936,)"
            ]
          },
          "metadata": {},
          "execution_count": 13
        }
      ]
    },
    {
      "cell_type": "markdown",
      "source": [
        "Con las etiquetas y la base de datos ya preparadas, es necesario eliminar las columnas que no serán utilizadas como entrada para la red neuronal, así como la columna que contiene los valores de temperatura, ya que ahora se utilizan como etiquetas.\n",
        "\n",
        "Las columnas eliminadas son:\n",
        "\n",
        "- **Fecha**: No aporta información relevante en comparación con el resto de las características.\n",
        "- **Datos**: Existe la columna 'Summary' que proporciona datos idénticos.\n",
        "- **Cloud Cover**: Tiene un valor único y, por lo tanto, no ofrece información distintiva para los diferentes registros.\n",
        "- **Temperatura**: Los valores de esta columna ahora se utilizan como etiquetas."
      ],
      "metadata": {
        "id": "UB3p45haM7bd"
      },
      "id": "UB3p45haM7bd"
    },
    {
      "cell_type": "code",
      "source": [
        "datos=datos.drop(['Fecha'],axis=1)\n",
        "datos=datos.drop(['Datos'],axis=1)\n",
        "datos=datos.drop(['loud cover'],axis=1)\n",
        "datos=datos.drop(['Temperatura'],axis=1)"
      ],
      "metadata": {
        "id": "dfR2rNJ-M-tu"
      },
      "id": "dfR2rNJ-M-tu",
      "execution_count": 14,
      "outputs": []
    },
    {
      "cell_type": "markdown",
      "source": [
        "Se comprueba de nuevo el tamaño de los datos"
      ],
      "metadata": {
        "id": "8FemmvFrOq-k"
      },
      "id": "8FemmvFrOq-k"
    },
    {
      "cell_type": "code",
      "source": [
        "datos.shape"
      ],
      "metadata": {
        "id": "NIMEjd5AFToE",
        "outputId": "2105abfd-af12-4360-9d71-723e99812bcc",
        "colab": {
          "base_uri": "https://localhost:8080/"
        }
      },
      "id": "NIMEjd5AFToE",
      "execution_count": 15,
      "outputs": [
        {
          "output_type": "execute_result",
          "data": {
            "text/plain": [
              "(95936, 8)"
            ]
          },
          "metadata": {},
          "execution_count": 15
        }
      ]
    },
    {
      "cell_type": "markdown",
      "source": [
        "Dado que se dispone de una sola base de datos, es necesario separar estos datos en conjuntos de entrenamiento y prueba. Se utilizarán 70,000 datos para el entrenamiento y aproximadamente 26,000 datos para la prueba.\n",
        "\n",
        "De igual manera, las etiquetas deben ser separadas en conjuntos de entrenamiento y prueba correspondientes."
      ],
      "metadata": {
        "id": "JCnt5y9gO2AE"
      },
      "id": "JCnt5y9gO2AE"
    },
    {
      "cell_type": "code",
      "source": [
        "train_datos=datos[:70000]\n",
        "test_datos=datos[70001:]\n",
        "\n",
        "train_labels=labels[:70000]\n",
        "test_labels=labels[70001:]"
      ],
      "metadata": {
        "id": "GD_gBGXimN1C"
      },
      "id": "GD_gBGXimN1C",
      "execution_count": 16,
      "outputs": []
    },
    {
      "cell_type": "markdown",
      "source": [
        "se comprueba el tamaño de los datos de test y entrenamiento para verificar que se ha realizado correctamente la división"
      ],
      "metadata": {
        "id": "8u-9WpcJPOv9"
      },
      "id": "8u-9WpcJPOv9"
    },
    {
      "cell_type": "code",
      "source": [
        "train_datos.shape\n",
        "test_datos.shape"
      ],
      "metadata": {
        "id": "y77_ZG4PEOoM",
        "outputId": "0d8a5476-0d85-4a1e-e8c3-2aeecbe542e7",
        "colab": {
          "base_uri": "https://localhost:8080/"
        }
      },
      "id": "y77_ZG4PEOoM",
      "execution_count": 17,
      "outputs": [
        {
          "output_type": "execute_result",
          "data": {
            "text/plain": [
              "(25935, 8)"
            ]
          },
          "metadata": {},
          "execution_count": 17
        }
      ]
    },
    {
      "cell_type": "markdown",
      "source": [
        "Una vez que los datos están separados, es crucial normalizar las características debido a que cada una tiene rangos distintos. En el contexto de un problema de regresión, la normalización se realiza utilizando la media y la desviación estándar de cada característica.\n",
        "\n",
        "Es fundamental tener en cuenta que los datos de prueba deben ser normalizados utilizando la media y la desviación estándar de los datos de entrenamiento. Esto asegura que los datos de prueba no se vean afectados ni contaminados por el proceso de normalización."
      ],
      "metadata": {
        "id": "qglTtMQPm_9X"
      },
      "id": "qglTtMQPm_9X"
    },
    {
      "cell_type": "code",
      "source": [
        "mean = train_datos.mean(axis=0)\n",
        "print(\"##### Media de las 8 características de los datos de entrenamiento ##### \")\n",
        "print(mean)\n",
        "train_datos -= mean\n",
        "std = train_datos.std(axis=0)\n",
        "print(\"##### Desviación estandar de las 8 características de los datos de entrenamiento ##### \")\n",
        "print(std)\n",
        "train_datos /= std\n",
        "test_datos -= mean\n",
        "test_datos /= std"
      ],
      "metadata": {
        "colab": {
          "base_uri": "https://localhost:8080/"
        },
        "id": "XZTxyeq8nT_A",
        "outputId": "837eac4f-a41c-427b-ed94-ca6ea8e54658"
      },
      "id": "XZTxyeq8nT_A",
      "execution_count": 18,
      "outputs": [
        {
          "output_type": "stream",
          "name": "stdout",
          "text": [
            "##### Media de las 8 características de los datos de entrenamiento ##### \n",
            "Summary            15.874143\n",
            "LLuvia              0.127229\n",
            "T ambiente         10.693272\n",
            "Humedad             0.730353\n",
            "Vel_viento         10.868822\n",
            "Viraje viento     189.321371\n",
            "Visibilidad        10.039112\n",
            "Presión          1003.466910\n",
            "dtype: float64\n",
            "##### Desviación estandar de las 8 características de los datos de entrenamiento ##### \n",
            "Summary            4.509865\n",
            "LLuvia             0.333231\n",
            "T ambiente        10.956204\n",
            "Humedad            0.197574\n",
            "Vel_viento         7.013348\n",
            "Viraje viento    107.766729\n",
            "Visibilidad        3.918958\n",
            "Presión          115.945929\n",
            "dtype: float64\n"
          ]
        }
      ]
    },
    {
      "cell_type": "markdown",
      "source": [
        "# CREACIÓN DE LA RED"
      ],
      "metadata": {
        "id": "7T0MfDsToeWB"
      },
      "id": "7T0MfDsToeWB"
    },
    {
      "cell_type": "markdown",
      "source": [
        "Vamos a proceder con la creación de la red neuronal diseñada para realizar predicciones de temperatura, utilizando un modelo de regresión con las siguientes especificaciones técnicas:\n",
        "\n",
        "1. **Arquitectura del modelo:**\n",
        "   - El modelo consta de 3 capas.\n",
        "   - Las dos primeras capas son capas densas con 128 neuronas cada una.\n",
        "   - La función de activación utilizada en estas capas es ReLU, que es ideal para problemas de regresión ya que produce salidas no negativas (max(0, s)).\n",
        "\n",
        "2. **Capa de salida:**\n",
        "   - La última capa consta de una sola neurona.\n",
        "   - No se aplica ninguna función de activación en la capa de salida, lo cual se conoce como salida abierta. Esto se elige así para obtener un único valor numérico como predicción de temperatura.\n",
        "\n",
        "3. **Optimizador:**\n",
        "   - Se utiliza el optimizador RMSprop, que es efectivo para ajustar los pesos del modelo en problemas de regresión.\n",
        "\n",
        "4. **Función de pérdida y métricas:**\n",
        "   - La función de pérdida utilizada es el error medio absoluto (MAE, Mean Absolute Error), que es robusto frente a valores atípicos y es comúnmente utilizado en problemas de regresión.\n",
        "   - Como métrica adicional se emplea el error medio cuadrático (MSE, Mean Squared Error), que proporciona una medida de la dispersión de los errores al cuadrado.\n",
        "\n",
        "Estas configuraciones aseguran que el modelo esté adecuadamente estructurado y optimizado para realizar predicciones precisas de temperatura basadas en los datos de entrenamiento proporcionados."
      ],
      "metadata": {
        "id": "f6cY7F5zSddK"
      },
      "id": "f6cY7F5zSddK"
    },
    {
      "cell_type": "code",
      "source": [
        "import tensorflow as tf\n",
        "from keras import models\n",
        "from keras import layers\n",
        "\n",
        "def build_model():\n",
        "    # Porque necesitaremos instanciar el mismo modelo\n",
        "    # múltiples veces, usamos una función para construirlo\n",
        "    model = models.Sequential()\n",
        "    model.add(layers.Dense(128, activation='relu',\n",
        "                           input_shape=(train_datos.shape[1],)))\n",
        "    model.add(layers.Dense(128, activation='relu'))\n",
        "    model.add(layers.Dense(1))\n",
        "    # MSE: Mean Squared Error\n",
        "    # MAE: Mean Absolute Error\n",
        "    model.compile(optimizer='rmsprop', loss='mse',\n",
        "                  metrics=[tf.keras.metrics.MeanAbsoluteError()]) # metrics = ['mae']\n",
        "    return model"
      ],
      "metadata": {
        "id": "i49WNYvoo2Rn"
      },
      "id": "i49WNYvoo2Rn",
      "execution_count": 19,
      "outputs": []
    },
    {
      "cell_type": "markdown",
      "source": [
        "Para poder entrenar la red neuronal, es necesario separar los datos de entrenamiento en dos conjuntos distintos: datos de entrenamiento y datos de validación. En este caso, se utilizarán 50,000 datos para entrenamiento y 20,000 datos para validación."
      ],
      "metadata": {
        "id": "LZDlPLgXpCOu"
      },
      "id": "LZDlPLgXpCOu"
    },
    {
      "cell_type": "code",
      "source": [
        "partial_train_datos = train_datos[:50000]\n",
        "partial_eval_train_datos = train_datos[50001:]\n",
        "partial_train_labels = train_labels[:50000]\n",
        "partial_eval_train_labels= train_labels[50001:]"
      ],
      "metadata": {
        "id": "jp5gh3Bbo5Gv"
      },
      "id": "jp5gh3Bbo5Gv",
      "execution_count": 20,
      "outputs": []
    },
    {
      "cell_type": "markdown",
      "source": [
        "Se procede a crear el modelo"
      ],
      "metadata": {
        "id": "cOuozPEnU0ea"
      },
      "id": "cOuozPEnU0ea"
    },
    {
      "cell_type": "code",
      "source": [
        "mymodel = build_model()"
      ],
      "metadata": {
        "id": "seYZCr1dpiPS"
      },
      "id": "seYZCr1dpiPS",
      "execution_count": 21,
      "outputs": []
    },
    {
      "cell_type": "markdown",
      "source": [
        "Una vez creado el modelo diseñado anteriormente, procederemos a entrenarlo. Con el fin de determinar el número adecuado de épocas para entrenar el modelo y observar cuándo ocurre el sobreajuste, se entrenará con 100 épocas.\n",
        "\n",
        "El tamaño del lote (batch size) elegido es 128, dado que disponemos de 50,000 datos de entrenamiento. Esto significa que los pesos del modelo se actualizarán después de procesar 128 datos de entrenamiento en cada época."
      ],
      "metadata": {
        "id": "ePUNip3mU5zQ"
      },
      "id": "ePUNip3mU5zQ"
    },
    {
      "cell_type": "code",
      "source": [
        "history = mymodel.fit(partial_train_datos, partial_train_labels,\n",
        "            validation_data=(partial_eval_train_datos, partial_eval_train_labels),\n",
        "                        epochs=100, batch_size=128)"
      ],
      "metadata": {
        "colab": {
          "base_uri": "https://localhost:8080/"
        },
        "id": "eI5UG6nVprSf",
        "outputId": "962cf5b9-8f16-4a64-8bdb-cdf084752600"
      },
      "id": "eI5UG6nVprSf",
      "execution_count": 22,
      "outputs": [
        {
          "output_type": "stream",
          "name": "stdout",
          "text": [
            "Epoch 1/100\n",
            "391/391 [==============================] - 3s 6ms/step - loss: 13.2832 - mean_absolute_error: 1.6875 - val_loss: 0.7707 - val_mean_absolute_error: 0.6973\n",
            "Epoch 2/100\n",
            "391/391 [==============================] - 3s 7ms/step - loss: 0.3615 - mean_absolute_error: 0.4656 - val_loss: 0.7841 - val_mean_absolute_error: 0.7473\n",
            "Epoch 3/100\n",
            "391/391 [==============================] - 2s 4ms/step - loss: 0.2862 - mean_absolute_error: 0.4096 - val_loss: 0.2263 - val_mean_absolute_error: 0.3434\n",
            "Epoch 4/100\n",
            "391/391 [==============================] - 2s 4ms/step - loss: 0.2509 - mean_absolute_error: 0.3822 - val_loss: 0.1769 - val_mean_absolute_error: 0.2899\n",
            "Epoch 5/100\n",
            "391/391 [==============================] - 1s 4ms/step - loss: 0.2246 - mean_absolute_error: 0.3577 - val_loss: 0.1365 - val_mean_absolute_error: 0.2351\n",
            "Epoch 6/100\n",
            "391/391 [==============================] - 1s 4ms/step - loss: 0.2083 - mean_absolute_error: 0.3440 - val_loss: 0.4006 - val_mean_absolute_error: 0.5243\n",
            "Epoch 7/100\n",
            "391/391 [==============================] - 1s 4ms/step - loss: 0.1936 - mean_absolute_error: 0.3301 - val_loss: 0.1449 - val_mean_absolute_error: 0.2651\n",
            "Epoch 8/100\n",
            "391/391 [==============================] - 1s 4ms/step - loss: 0.1810 - mean_absolute_error: 0.3196 - val_loss: 0.2848 - val_mean_absolute_error: 0.4202\n",
            "Epoch 9/100\n",
            "391/391 [==============================] - 2s 6ms/step - loss: 0.1702 - mean_absolute_error: 0.3103 - val_loss: 0.2103 - val_mean_absolute_error: 0.3600\n",
            "Epoch 10/100\n",
            "391/391 [==============================] - 2s 6ms/step - loss: 0.1608 - mean_absolute_error: 0.3007 - val_loss: 0.1316 - val_mean_absolute_error: 0.2442\n",
            "Epoch 11/100\n",
            "391/391 [==============================] - 1s 4ms/step - loss: 0.1545 - mean_absolute_error: 0.3014 - val_loss: 0.1808 - val_mean_absolute_error: 0.3123\n",
            "Epoch 12/100\n",
            "391/391 [==============================] - 2s 4ms/step - loss: 0.1455 - mean_absolute_error: 0.2821 - val_loss: 0.1050 - val_mean_absolute_error: 0.2155\n",
            "Epoch 13/100\n",
            "391/391 [==============================] - 2s 4ms/step - loss: 0.1378 - mean_absolute_error: 0.2797 - val_loss: 0.1824 - val_mean_absolute_error: 0.3366\n",
            "Epoch 14/100\n",
            "391/391 [==============================] - 2s 4ms/step - loss: 0.1332 - mean_absolute_error: 0.2785 - val_loss: 0.0889 - val_mean_absolute_error: 0.1877\n",
            "Epoch 15/100\n",
            "391/391 [==============================] - 2s 4ms/step - loss: 0.1230 - mean_absolute_error: 0.2621 - val_loss: 0.0856 - val_mean_absolute_error: 0.1958\n",
            "Epoch 16/100\n",
            "391/391 [==============================] - 2s 4ms/step - loss: 0.1188 - mean_absolute_error: 0.2652 - val_loss: 0.0933 - val_mean_absolute_error: 0.1939\n",
            "Epoch 17/100\n",
            "391/391 [==============================] - 3s 8ms/step - loss: 0.1136 - mean_absolute_error: 0.2595 - val_loss: 0.0950 - val_mean_absolute_error: 0.2100\n",
            "Epoch 18/100\n",
            "391/391 [==============================] - 2s 5ms/step - loss: 0.1072 - mean_absolute_error: 0.2486 - val_loss: 0.2127 - val_mean_absolute_error: 0.3712\n",
            "Epoch 19/100\n",
            "391/391 [==============================] - 1s 4ms/step - loss: 0.1012 - mean_absolute_error: 0.2442 - val_loss: 0.0976 - val_mean_absolute_error: 0.2362\n",
            "Epoch 20/100\n",
            "391/391 [==============================] - 1s 4ms/step - loss: 0.0967 - mean_absolute_error: 0.2420 - val_loss: 0.2658 - val_mean_absolute_error: 0.4206\n",
            "Epoch 21/100\n",
            "391/391 [==============================] - 2s 4ms/step - loss: 0.0951 - mean_absolute_error: 0.2373 - val_loss: 0.0945 - val_mean_absolute_error: 0.2325\n",
            "Epoch 22/100\n",
            "391/391 [==============================] - 1s 4ms/step - loss: 0.0912 - mean_absolute_error: 0.2342 - val_loss: 0.1434 - val_mean_absolute_error: 0.3142\n",
            "Epoch 23/100\n",
            "391/391 [==============================] - 2s 4ms/step - loss: 0.0873 - mean_absolute_error: 0.2250 - val_loss: 0.0673 - val_mean_absolute_error: 0.1706\n",
            "Epoch 24/100\n",
            "391/391 [==============================] - 2s 4ms/step - loss: 0.0847 - mean_absolute_error: 0.2205 - val_loss: 0.0902 - val_mean_absolute_error: 0.2129\n",
            "Epoch 25/100\n",
            "391/391 [==============================] - 3s 7ms/step - loss: 0.0826 - mean_absolute_error: 0.2155 - val_loss: 0.1265 - val_mean_absolute_error: 0.2932\n",
            "Epoch 26/100\n",
            "391/391 [==============================] - 2s 4ms/step - loss: 0.0806 - mean_absolute_error: 0.2147 - val_loss: 0.0470 - val_mean_absolute_error: 0.1252\n",
            "Epoch 27/100\n",
            "391/391 [==============================] - 1s 3ms/step - loss: 0.0777 - mean_absolute_error: 0.2111 - val_loss: 0.0666 - val_mean_absolute_error: 0.1648\n",
            "Epoch 28/100\n",
            "391/391 [==============================] - 2s 4ms/step - loss: 0.0768 - mean_absolute_error: 0.2102 - val_loss: 0.0392 - val_mean_absolute_error: 0.1016\n",
            "Epoch 29/100\n",
            "391/391 [==============================] - 2s 4ms/step - loss: 0.0748 - mean_absolute_error: 0.2089 - val_loss: 0.0794 - val_mean_absolute_error: 0.1823\n",
            "Epoch 30/100\n",
            "391/391 [==============================] - 2s 4ms/step - loss: 0.0738 - mean_absolute_error: 0.2072 - val_loss: 0.0876 - val_mean_absolute_error: 0.2186\n",
            "Epoch 31/100\n",
            "391/391 [==============================] - 2s 4ms/step - loss: 0.0726 - mean_absolute_error: 0.2035 - val_loss: 0.0459 - val_mean_absolute_error: 0.1354\n",
            "Epoch 32/100\n",
            "391/391 [==============================] - 2s 4ms/step - loss: 0.0694 - mean_absolute_error: 0.2039 - val_loss: 0.0945 - val_mean_absolute_error: 0.2460\n",
            "Epoch 33/100\n",
            "391/391 [==============================] - 3s 7ms/step - loss: 0.0690 - mean_absolute_error: 0.1979 - val_loss: 0.0589 - val_mean_absolute_error: 0.1771\n",
            "Epoch 34/100\n",
            "391/391 [==============================] - 2s 4ms/step - loss: 0.0673 - mean_absolute_error: 0.1944 - val_loss: 0.0612 - val_mean_absolute_error: 0.1687\n",
            "Epoch 35/100\n",
            "391/391 [==============================] - 2s 4ms/step - loss: 0.0663 - mean_absolute_error: 0.1925 - val_loss: 0.1469 - val_mean_absolute_error: 0.2704\n",
            "Epoch 36/100\n",
            "391/391 [==============================] - 2s 4ms/step - loss: 0.0651 - mean_absolute_error: 0.1928 - val_loss: 0.0386 - val_mean_absolute_error: 0.1055\n",
            "Epoch 37/100\n",
            "391/391 [==============================] - 2s 4ms/step - loss: 0.0646 - mean_absolute_error: 0.1917 - val_loss: 0.0725 - val_mean_absolute_error: 0.2102\n",
            "Epoch 38/100\n",
            "391/391 [==============================] - 1s 4ms/step - loss: 0.0619 - mean_absolute_error: 0.1839 - val_loss: 0.0897 - val_mean_absolute_error: 0.2424\n",
            "Epoch 39/100\n",
            "391/391 [==============================] - 1s 4ms/step - loss: 0.0611 - mean_absolute_error: 0.1872 - val_loss: 0.1111 - val_mean_absolute_error: 0.2712\n",
            "Epoch 40/100\n",
            "391/391 [==============================] - 2s 5ms/step - loss: 0.0609 - mean_absolute_error: 0.1829 - val_loss: 0.0437 - val_mean_absolute_error: 0.1490\n",
            "Epoch 41/100\n",
            "391/391 [==============================] - 3s 7ms/step - loss: 0.0595 - mean_absolute_error: 0.1797 - val_loss: 0.1085 - val_mean_absolute_error: 0.2607\n",
            "Epoch 42/100\n",
            "391/391 [==============================] - 2s 4ms/step - loss: 0.0594 - mean_absolute_error: 0.1820 - val_loss: 0.0393 - val_mean_absolute_error: 0.1067\n",
            "Epoch 43/100\n",
            "391/391 [==============================] - 2s 5ms/step - loss: 0.0583 - mean_absolute_error: 0.1817 - val_loss: 0.0342 - val_mean_absolute_error: 0.1133\n",
            "Epoch 44/100\n",
            "391/391 [==============================] - 2s 4ms/step - loss: 0.0567 - mean_absolute_error: 0.1790 - val_loss: 0.0724 - val_mean_absolute_error: 0.1955\n",
            "Epoch 45/100\n",
            "391/391 [==============================] - 2s 4ms/step - loss: 0.0580 - mean_absolute_error: 0.1816 - val_loss: 0.0335 - val_mean_absolute_error: 0.1157\n",
            "Epoch 46/100\n",
            "391/391 [==============================] - 2s 4ms/step - loss: 0.0555 - mean_absolute_error: 0.1741 - val_loss: 0.0629 - val_mean_absolute_error: 0.1932\n",
            "Epoch 47/100\n",
            "391/391 [==============================] - 2s 4ms/step - loss: 0.0548 - mean_absolute_error: 0.1770 - val_loss: 0.0411 - val_mean_absolute_error: 0.1177\n",
            "Epoch 48/100\n",
            "391/391 [==============================] - 3s 7ms/step - loss: 0.0547 - mean_absolute_error: 0.1736 - val_loss: 0.0784 - val_mean_absolute_error: 0.2253\n",
            "Epoch 49/100\n",
            "391/391 [==============================] - 2s 6ms/step - loss: 0.0530 - mean_absolute_error: 0.1709 - val_loss: 0.0499 - val_mean_absolute_error: 0.1604\n",
            "Epoch 50/100\n",
            "391/391 [==============================] - 2s 4ms/step - loss: 0.0527 - mean_absolute_error: 0.1690 - val_loss: 0.0850 - val_mean_absolute_error: 0.2430\n",
            "Epoch 51/100\n",
            "391/391 [==============================] - 2s 4ms/step - loss: 0.0518 - mean_absolute_error: 0.1707 - val_loss: 0.1833 - val_mean_absolute_error: 0.3359\n",
            "Epoch 52/100\n",
            "391/391 [==============================] - 2s 4ms/step - loss: 0.0512 - mean_absolute_error: 0.1672 - val_loss: 0.0273 - val_mean_absolute_error: 0.1005\n",
            "Epoch 53/100\n",
            "391/391 [==============================] - 2s 4ms/step - loss: 0.0500 - mean_absolute_error: 0.1667 - val_loss: 0.0864 - val_mean_absolute_error: 0.2342\n",
            "Epoch 54/100\n",
            "391/391 [==============================] - 2s 4ms/step - loss: 0.0498 - mean_absolute_error: 0.1638 - val_loss: 0.0733 - val_mean_absolute_error: 0.2122\n",
            "Epoch 55/100\n",
            "391/391 [==============================] - 2s 6ms/step - loss: 0.0491 - mean_absolute_error: 0.1643 - val_loss: 0.0825 - val_mean_absolute_error: 0.2139\n",
            "Epoch 56/100\n",
            "391/391 [==============================] - 3s 7ms/step - loss: 0.0487 - mean_absolute_error: 0.1666 - val_loss: 0.0965 - val_mean_absolute_error: 0.2373\n",
            "Epoch 57/100\n",
            "391/391 [==============================] - 2s 4ms/step - loss: 0.0477 - mean_absolute_error: 0.1630 - val_loss: 0.0675 - val_mean_absolute_error: 0.2098\n",
            "Epoch 58/100\n",
            "391/391 [==============================] - 2s 4ms/step - loss: 0.0473 - mean_absolute_error: 0.1589 - val_loss: 0.0801 - val_mean_absolute_error: 0.2128\n",
            "Epoch 59/100\n",
            "391/391 [==============================] - 1s 4ms/step - loss: 0.0476 - mean_absolute_error: 0.1556 - val_loss: 0.0285 - val_mean_absolute_error: 0.1047\n",
            "Epoch 60/100\n",
            "391/391 [==============================] - 1s 4ms/step - loss: 0.0471 - mean_absolute_error: 0.1628 - val_loss: 0.0279 - val_mean_absolute_error: 0.1024\n",
            "Epoch 61/100\n",
            "391/391 [==============================] - 2s 4ms/step - loss: 0.0465 - mean_absolute_error: 0.1593 - val_loss: 0.1078 - val_mean_absolute_error: 0.2609\n",
            "Epoch 62/100\n",
            "391/391 [==============================] - 2s 4ms/step - loss: 0.0456 - mean_absolute_error: 0.1605 - val_loss: 0.0287 - val_mean_absolute_error: 0.1036\n",
            "Epoch 63/100\n",
            "391/391 [==============================] - 2s 6ms/step - loss: 0.0448 - mean_absolute_error: 0.1546 - val_loss: 0.0825 - val_mean_absolute_error: 0.2142\n",
            "Epoch 64/100\n",
            "391/391 [==============================] - 3s 7ms/step - loss: 0.0445 - mean_absolute_error: 0.1580 - val_loss: 0.0457 - val_mean_absolute_error: 0.1550\n",
            "Epoch 65/100\n",
            "391/391 [==============================] - 1s 4ms/step - loss: 0.0440 - mean_absolute_error: 0.1539 - val_loss: 0.0402 - val_mean_absolute_error: 0.1354\n",
            "Epoch 66/100\n",
            "391/391 [==============================] - 2s 4ms/step - loss: 0.0439 - mean_absolute_error: 0.1533 - val_loss: 0.0852 - val_mean_absolute_error: 0.2431\n",
            "Epoch 67/100\n",
            "391/391 [==============================] - 2s 4ms/step - loss: 0.0438 - mean_absolute_error: 0.1552 - val_loss: 0.0327 - val_mean_absolute_error: 0.1250\n",
            "Epoch 68/100\n",
            "391/391 [==============================] - 2s 4ms/step - loss: 0.0433 - mean_absolute_error: 0.1542 - val_loss: 0.0687 - val_mean_absolute_error: 0.2075\n",
            "Epoch 69/100\n",
            "391/391 [==============================] - 2s 4ms/step - loss: 0.0429 - mean_absolute_error: 0.1565 - val_loss: 0.0262 - val_mean_absolute_error: 0.1066\n",
            "Epoch 70/100\n",
            "391/391 [==============================] - 2s 4ms/step - loss: 0.0432 - mean_absolute_error: 0.1517 - val_loss: 0.0330 - val_mean_absolute_error: 0.1161\n",
            "Epoch 71/100\n",
            "391/391 [==============================] - 2s 6ms/step - loss: 0.0417 - mean_absolute_error: 0.1522 - val_loss: 0.0414 - val_mean_absolute_error: 0.1393\n",
            "Epoch 72/100\n",
            "391/391 [==============================] - 3s 7ms/step - loss: 0.0426 - mean_absolute_error: 0.1528 - val_loss: 0.0263 - val_mean_absolute_error: 0.0873\n",
            "Epoch 73/100\n",
            "391/391 [==============================] - 1s 4ms/step - loss: 0.0413 - mean_absolute_error: 0.1495 - val_loss: 0.0876 - val_mean_absolute_error: 0.2389\n",
            "Epoch 74/100\n",
            "391/391 [==============================] - 2s 4ms/step - loss: 0.0412 - mean_absolute_error: 0.1489 - val_loss: 0.0519 - val_mean_absolute_error: 0.1922\n",
            "Epoch 75/100\n",
            "391/391 [==============================] - 2s 4ms/step - loss: 0.0412 - mean_absolute_error: 0.1538 - val_loss: 0.0192 - val_mean_absolute_error: 0.0663\n",
            "Epoch 76/100\n",
            "391/391 [==============================] - 2s 4ms/step - loss: 0.0410 - mean_absolute_error: 0.1492 - val_loss: 0.0401 - val_mean_absolute_error: 0.1012\n",
            "Epoch 77/100\n",
            "391/391 [==============================] - 2s 4ms/step - loss: 0.0405 - mean_absolute_error: 0.1508 - val_loss: 0.0466 - val_mean_absolute_error: 0.1655\n",
            "Epoch 78/100\n",
            "391/391 [==============================] - 2s 4ms/step - loss: 0.0398 - mean_absolute_error: 0.1497 - val_loss: 0.0861 - val_mean_absolute_error: 0.2366\n",
            "Epoch 79/100\n",
            "391/391 [==============================] - 3s 7ms/step - loss: 0.0407 - mean_absolute_error: 0.1500 - val_loss: 0.0271 - val_mean_absolute_error: 0.1059\n",
            "Epoch 80/100\n",
            "391/391 [==============================] - 2s 6ms/step - loss: 0.0397 - mean_absolute_error: 0.1458 - val_loss: 0.0301 - val_mean_absolute_error: 0.1045\n",
            "Epoch 81/100\n",
            "391/391 [==============================] - 2s 4ms/step - loss: 0.0389 - mean_absolute_error: 0.1464 - val_loss: 0.0183 - val_mean_absolute_error: 0.0595\n",
            "Epoch 82/100\n",
            "391/391 [==============================] - 2s 4ms/step - loss: 0.0393 - mean_absolute_error: 0.1448 - val_loss: 0.0289 - val_mean_absolute_error: 0.1074\n",
            "Epoch 83/100\n",
            "391/391 [==============================] - 2s 4ms/step - loss: 0.0393 - mean_absolute_error: 0.1493 - val_loss: 0.0800 - val_mean_absolute_error: 0.2172\n",
            "Epoch 84/100\n",
            "391/391 [==============================] - 2s 4ms/step - loss: 0.0386 - mean_absolute_error: 0.1443 - val_loss: 0.0248 - val_mean_absolute_error: 0.0763\n",
            "Epoch 85/100\n",
            "391/391 [==============================] - 2s 4ms/step - loss: 0.0380 - mean_absolute_error: 0.1422 - val_loss: 0.0624 - val_mean_absolute_error: 0.1971\n",
            "Epoch 86/100\n",
            "391/391 [==============================] - 2s 5ms/step - loss: 0.0386 - mean_absolute_error: 0.1466 - val_loss: 0.0324 - val_mean_absolute_error: 0.1296\n",
            "Epoch 87/100\n",
            "391/391 [==============================] - 3s 7ms/step - loss: 0.0386 - mean_absolute_error: 0.1437 - val_loss: 0.0374 - val_mean_absolute_error: 0.1337\n",
            "Epoch 88/100\n",
            "391/391 [==============================] - 2s 4ms/step - loss: 0.0374 - mean_absolute_error: 0.1402 - val_loss: 0.0651 - val_mean_absolute_error: 0.2068\n",
            "Epoch 89/100\n",
            "391/391 [==============================] - 2s 4ms/step - loss: 0.0383 - mean_absolute_error: 0.1429 - val_loss: 0.0340 - val_mean_absolute_error: 0.1229\n",
            "Epoch 90/100\n",
            "391/391 [==============================] - 1s 4ms/step - loss: 0.0373 - mean_absolute_error: 0.1412 - val_loss: 0.0386 - val_mean_absolute_error: 0.1395\n",
            "Epoch 91/100\n",
            "391/391 [==============================] - 2s 4ms/step - loss: 0.0372 - mean_absolute_error: 0.1400 - val_loss: 0.0540 - val_mean_absolute_error: 0.1760\n",
            "Epoch 92/100\n",
            "391/391 [==============================] - 1s 4ms/step - loss: 0.0365 - mean_absolute_error: 0.1360 - val_loss: 0.0200 - val_mean_absolute_error: 0.0812\n",
            "Epoch 93/100\n",
            "391/391 [==============================] - 1s 4ms/step - loss: 0.0370 - mean_absolute_error: 0.1392 - val_loss: 0.0488 - val_mean_absolute_error: 0.1692\n",
            "Epoch 94/100\n",
            "391/391 [==============================] - 2s 5ms/step - loss: 0.0365 - mean_absolute_error: 0.1372 - val_loss: 0.0799 - val_mean_absolute_error: 0.2160\n",
            "Epoch 95/100\n",
            "391/391 [==============================] - 3s 7ms/step - loss: 0.0365 - mean_absolute_error: 0.1414 - val_loss: 0.0380 - val_mean_absolute_error: 0.1352\n",
            "Epoch 96/100\n",
            "391/391 [==============================] - 2s 4ms/step - loss: 0.0355 - mean_absolute_error: 0.1314 - val_loss: 0.0473 - val_mean_absolute_error: 0.1557\n",
            "Epoch 97/100\n",
            "391/391 [==============================] - 2s 4ms/step - loss: 0.0362 - mean_absolute_error: 0.1378 - val_loss: 0.0392 - val_mean_absolute_error: 0.1262\n",
            "Epoch 98/100\n",
            "391/391 [==============================] - 1s 4ms/step - loss: 0.0362 - mean_absolute_error: 0.1389 - val_loss: 0.0320 - val_mean_absolute_error: 0.1301\n",
            "Epoch 99/100\n",
            "391/391 [==============================] - 2s 4ms/step - loss: 0.0359 - mean_absolute_error: 0.1360 - val_loss: 0.0219 - val_mean_absolute_error: 0.0876\n",
            "Epoch 100/100\n",
            "391/391 [==============================] - 2s 4ms/step - loss: 0.0350 - mean_absolute_error: 0.1318 - val_loss: 0.1317 - val_mean_absolute_error: 0.3069\n"
          ]
        }
      ]
    },
    {
      "cell_type": "markdown",
      "source": [
        "Se guardan los valores de error medio absoluto y pérdida en la validación para poder graficarlos."
      ],
      "metadata": {
        "id": "xPHl2BSxVnHG"
      },
      "id": "xPHl2BSxVnHG"
    },
    {
      "cell_type": "code",
      "source": [
        "mae_history = history.history['val_mean_absolute_error']"
      ],
      "metadata": {
        "id": "iGJBKsErp6hB"
      },
      "id": "iGJBKsErp6hB",
      "execution_count": 23,
      "outputs": []
    },
    {
      "cell_type": "code",
      "source": [
        "mse_history = history.history['val_loss']"
      ],
      "metadata": {
        "id": "0NM0QWErp98u"
      },
      "id": "0NM0QWErp98u",
      "execution_count": 24,
      "outputs": []
    },
    {
      "cell_type": "markdown",
      "source": [
        "Se confrontan en una gráfica las épocas frente a la pérdida pérdida (MSE)"
      ],
      "metadata": {
        "id": "W0kHJ443qE6p"
      },
      "id": "W0kHJ443qE6p"
    },
    {
      "cell_type": "code",
      "source": [
        "import matplotlib.pyplot as plt\n",
        "\n",
        "plt.plot(range(1, len(mse_history) + 1), mse_history)\n",
        "plt.xlabel('Epochs')\n",
        "plt.ylabel('Validación MSE')\n",
        "plt.show()"
      ],
      "metadata": {
        "id": "sNPBLN62qETp",
        "outputId": "b4a8e4ed-7918-4c4e-af8b-5d1c732625c5",
        "colab": {
          "base_uri": "https://localhost:8080/",
          "height": 449
        }
      },
      "id": "sNPBLN62qETp",
      "execution_count": 25,
      "outputs": [
        {
          "output_type": "display_data",
          "data": {
            "text/plain": [
              "<Figure size 640x480 with 1 Axes>"
            ],
            "image/png": "[encoded data removed]"
          },
          "metadata": {}
        }
      ]
    },
    {
      "cell_type": "markdown",
      "source": [
        "Se realiza una gráfica para comparar las pérdidas de entreno y validación"
      ],
      "metadata": {
        "id": "sQoDMTkuV46l"
      },
      "id": "sQoDMTkuV46l"
    },
    {
      "cell_type": "code",
      "source": [
        "import matplotlib.pyplot as plt\n",
        "\n",
        "loss = history.history['loss']\n",
        "val_loss = history.history['val_loss']\n",
        "\n",
        "epochs = range(1, len(loss) + 1)\n",
        "\n",
        "plt.plot(epochs, loss, 'bo', label='Pérdida del entreno')\n",
        "plt.plot(epochs, val_loss, 'b', label='Pérdida de la validación')\n",
        "plt.title('Perdidas del entreno y la validación')\n",
        "plt.xlabel('Épocas')\n",
        "plt.ylabel('Pérdida')\n",
        "plt.legend()\n",
        "\n",
        "plt.show()"
      ],
      "metadata": {
        "id": "iysI43zEqVQb",
        "outputId": "449e4e78-ccbc-4996-c798-316826f3d9a7",
        "colab": {
          "base_uri": "https://localhost:8080/",
          "height": 474
        }
      },
      "id": "iysI43zEqVQb",
      "execution_count": 26,
      "outputs": [
        {
          "output_type": "display_data",
          "data": {
            "text/plain": [
              "<Figure size 640x480 with 1 Axes>"
            ],
            "image/png": "[encoded data removed]"
          },
          "metadata": {}
        }
      ]
    },
    {
      "cell_type": "markdown",
      "source": [
        "Se confrontan en una gráfica las épocas contra la métrica de error absoluto medio (MAE)"
      ],
      "metadata": {
        "id": "BZnSo8GiqXi7"
      },
      "id": "BZnSo8GiqXi7"
    },
    {
      "cell_type": "code",
      "source": [
        " import matplotlib.pyplot as plt\n",
        "\n",
        "plt.plot(range(1, len(mae_history) + 1), mae_history)\n",
        "plt.xlabel('Epochs')\n",
        "plt.ylabel('Validación MAE')\n",
        "plt.show()"
      ],
      "metadata": {
        "id": "d7OI2-P4qXy9",
        "outputId": "c85298d2-221a-41e7-fc65-24c39a25e117",
        "colab": {
          "base_uri": "https://localhost:8080/",
          "height": 449
        }
      },
      "id": "d7OI2-P4qXy9",
      "execution_count": 27,
      "outputs": [
        {
          "output_type": "display_data",
          "data": {
            "text/plain": [
              "<Figure size 640x480 with 1 Axes>"
            ],
            "image/png": "[encoded data removed]"
          },
          "metadata": {}
        }
      ]
    },
    {
      "cell_type": "markdown",
      "source": [
        "Por último se realiza una gráfica para comparar el mae de entreno y validación"
      ],
      "metadata": {
        "id": "Oz3wOl_cWLGq"
      },
      "id": "Oz3wOl_cWLGq"
    },
    {
      "cell_type": "code",
      "source": [
        "import matplotlib.pyplot as plt\n",
        "\n",
        "loss = history.history['mean_absolute_error']\n",
        "val_loss = history.history['val_mean_absolute_error']\n",
        "\n",
        "epochs = range(1, len(loss) + 1)\n",
        "\n",
        "plt.plot(epochs, loss, 'bo', label='Métrica del entreno')\n",
        "plt.plot(epochs, val_loss, 'b', label='Métrica de la validación')\n",
        "plt.title('Métricas del entreno y la validación')\n",
        "plt.xlabel('Épocas')\n",
        "plt.ylabel('Métrica')\n",
        "plt.legend()\n",
        "\n",
        "plt.show()"
      ],
      "metadata": {
        "id": "g0K_QQ4hqfJB",
        "outputId": "f21470c4-e9e5-4951-d597-ce3d8b3f64ff",
        "colab": {
          "base_uri": "https://localhost:8080/",
          "height": 474
        }
      },
      "id": "g0K_QQ4hqfJB",
      "execution_count": 28,
      "outputs": [
        {
          "output_type": "display_data",
          "data": {
            "text/plain": [
              "<Figure size 640x480 with 1 Axes>"
            ],
            "image/png": "[encoded data removed]"
          },
          "metadata": {}
        }
      ]
    },
    {
      "cell_type": "markdown",
      "source": [
        "Después de revisar las distintas gráficas de métricas y validación, se ha observado que a partir de la época 20 se empieza a evidenciar sobreajuste. Aunque las gráficas pueden presentar variaciones y picos, este punto parece ser óptimo para evitar que la red se sobreentrene y logre la mejor predicción posible sin incurrir en un alto costo computacional.\n",
        "\n",
        "Para validar esta observación, procederemos a entrenar un nuevo modelo utilizando la misma arquitectura, pero limitando el entrenamiento a solo 20 épocas."
      ],
      "metadata": {
        "id": "qhSEkaVnXSuS"
      },
      "id": "qhSEkaVnXSuS"
    },
    {
      "cell_type": "code",
      "source": [
        "mymodel2 = build_model()"
      ],
      "metadata": {
        "id": "GubxwyNGEYuP"
      },
      "id": "GubxwyNGEYuP",
      "execution_count": 29,
      "outputs": []
    },
    {
      "cell_type": "code",
      "source": [
        "history = mymodel2.fit(partial_train_datos, partial_train_labels,\n",
        "            validation_data=(partial_eval_train_datos, partial_eval_train_labels),\n",
        "                        epochs=20, batch_size=128)"
      ],
      "metadata": {
        "id": "DqhZ_1YMqiIO",
        "colab": {
          "base_uri": "https://localhost:8080/"
        },
        "outputId": "ca97fd74-76b0-49b5-f538-845e947220a3"
      },
      "id": "DqhZ_1YMqiIO",
      "execution_count": 30,
      "outputs": [
        {
          "output_type": "stream",
          "name": "stdout",
          "text": [
            "Epoch 1/20\n",
            "391/391 [==============================] - 4s 8ms/step - loss: 13.4049 - mean_absolute_error: 1.7020 - val_loss: 0.5348 - val_mean_absolute_error: 0.4934\n",
            "Epoch 2/20\n",
            "391/391 [==============================] - 2s 5ms/step - loss: 0.3517 - mean_absolute_error: 0.4564 - val_loss: 0.3786 - val_mean_absolute_error: 0.4739\n",
            "Epoch 3/20\n",
            "391/391 [==============================] - 2s 4ms/step - loss: 0.2667 - mean_absolute_error: 0.3964 - val_loss: 0.2112 - val_mean_absolute_error: 0.3368\n",
            "Epoch 4/20\n",
            "391/391 [==============================] - 2s 4ms/step - loss: 0.2303 - mean_absolute_error: 0.3630 - val_loss: 0.1915 - val_mean_absolute_error: 0.3220\n",
            "Epoch 5/20\n",
            "391/391 [==============================] - 2s 4ms/step - loss: 0.2162 - mean_absolute_error: 0.3527 - val_loss: 0.2427 - val_mean_absolute_error: 0.3858\n",
            "Epoch 6/20\n",
            "391/391 [==============================] - 2s 5ms/step - loss: 0.2023 - mean_absolute_error: 0.3417 - val_loss: 0.1855 - val_mean_absolute_error: 0.3118\n",
            "Epoch 7/20\n",
            "391/391 [==============================] - 2s 5ms/step - loss: 0.1891 - mean_absolute_error: 0.3291 - val_loss: 0.4062 - val_mean_absolute_error: 0.5192\n",
            "Epoch 8/20\n",
            "391/391 [==============================] - 3s 7ms/step - loss: 0.1830 - mean_absolute_error: 0.3254 - val_loss: 0.1303 - val_mean_absolute_error: 0.2408\n",
            "Epoch 9/20\n",
            "391/391 [==============================] - 2s 6ms/step - loss: 0.1731 - mean_absolute_error: 0.3139 - val_loss: 0.2358 - val_mean_absolute_error: 0.3755\n",
            "Epoch 10/20\n",
            "391/391 [==============================] - 2s 4ms/step - loss: 0.1663 - mean_absolute_error: 0.3102 - val_loss: 0.1416 - val_mean_absolute_error: 0.2578\n",
            "Epoch 11/20\n",
            "391/391 [==============================] - 2s 4ms/step - loss: 0.1597 - mean_absolute_error: 0.3002 - val_loss: 0.1841 - val_mean_absolute_error: 0.3151\n",
            "Epoch 12/20\n",
            "391/391 [==============================] - 2s 4ms/step - loss: 0.1524 - mean_absolute_error: 0.2970 - val_loss: 0.1436 - val_mean_absolute_error: 0.2622\n",
            "Epoch 13/20\n",
            "391/391 [==============================] - 2s 4ms/step - loss: 0.1467 - mean_absolute_error: 0.2914 - val_loss: 0.1633 - val_mean_absolute_error: 0.3329\n",
            "Epoch 14/20\n",
            "391/391 [==============================] - 2s 4ms/step - loss: 0.1419 - mean_absolute_error: 0.2870 - val_loss: 0.1652 - val_mean_absolute_error: 0.3231\n",
            "Epoch 15/20\n",
            "391/391 [==============================] - 2s 6ms/step - loss: 0.1349 - mean_absolute_error: 0.2802 - val_loss: 0.1123 - val_mean_absolute_error: 0.2415\n",
            "Epoch 16/20\n",
            "391/391 [==============================] - 3s 7ms/step - loss: 0.1290 - mean_absolute_error: 0.2733 - val_loss: 0.2483 - val_mean_absolute_error: 0.4094\n",
            "Epoch 17/20\n",
            "391/391 [==============================] - 2s 4ms/step - loss: 0.1238 - mean_absolute_error: 0.2688 - val_loss: 0.1173 - val_mean_absolute_error: 0.2469\n",
            "Epoch 18/20\n",
            "391/391 [==============================] - 2s 5ms/step - loss: 0.1202 - mean_absolute_error: 0.2684 - val_loss: 0.1166 - val_mean_absolute_error: 0.2647\n",
            "Epoch 19/20\n",
            "391/391 [==============================] - 2s 4ms/step - loss: 0.1120 - mean_absolute_error: 0.2492 - val_loss: 0.3342 - val_mean_absolute_error: 0.4795\n",
            "Epoch 20/20\n",
            "391/391 [==============================] - 2s 4ms/step - loss: 0.1100 - mean_absolute_error: 0.2540 - val_loss: 0.1020 - val_mean_absolute_error: 0.2256\n"
          ]
        }
      ]
    },
    {
      "cell_type": "markdown",
      "source": [
        "Se guardan de nuevo tanto la pérdida como la métrica de validación y se realizan las mismas gráficas que se han realizado con el modelo anterior."
      ],
      "metadata": {
        "id": "sJGH-H4tYmP_"
      },
      "id": "sJGH-H4tYmP_"
    },
    {
      "cell_type": "code",
      "source": [
        "mae_history = history.history['val_mean_absolute_error']\n",
        "mse_history = history.history['val_loss']"
      ],
      "metadata": {
        "id": "OzahxAlHD0e0"
      },
      "id": "OzahxAlHD0e0",
      "execution_count": 31,
      "outputs": []
    },
    {
      "cell_type": "code",
      "source": [
        "import matplotlib.pyplot as plt\n",
        "\n",
        "plt.plot(range(1, len(mse_history) + 1), mse_history)\n",
        "plt.xlabel('Epochs')\n",
        "plt.ylabel('Validación MSE')\n",
        "plt.show()"
      ],
      "metadata": {
        "id": "xnUNGmilD1ZI",
        "outputId": "afa2d9ae-6d1a-41af-814b-d7370d357e30",
        "colab": {
          "base_uri": "https://localhost:8080/",
          "height": 449
        }
      },
      "id": "xnUNGmilD1ZI",
      "execution_count": 32,
      "outputs": [
        {
          "output_type": "display_data",
          "data": {
            "text/plain": [
              "<Figure size 640x480 with 1 Axes>"
            ],
            "image/png": "[encoded data removed]"
          },
          "metadata": {}
        }
      ]
    },
    {
      "cell_type": "code",
      "source": [
        "import matplotlib.pyplot as plt\n",
        "\n",
        "loss = history.history['loss']\n",
        "val_loss = history.history['val_loss']\n",
        "\n",
        "epochs = range(1, len(loss) + 1)\n",
        "\n",
        "plt.plot(epochs, loss, 'bo', label='Pérdida del entreno')\n",
        "plt.plot(epochs, val_loss, 'b', label='Pérdida de la validación')\n",
        "plt.title('Perdidas del entreno y la validación')\n",
        "plt.xlabel('Épocas')\n",
        "plt.ylabel('Pérdida')\n",
        "plt.legend()\n",
        "\n",
        "plt.show()"
      ],
      "metadata": {
        "id": "roWq86OeD1Nv",
        "outputId": "bd6bac83-fec6-4118-c06e-796fc7ff8c9f",
        "colab": {
          "base_uri": "https://localhost:8080/",
          "height": 474
        }
      },
      "id": "roWq86OeD1Nv",
      "execution_count": 33,
      "outputs": [
        {
          "output_type": "display_data",
          "data": {
            "text/plain": [
              "<Figure size 640x480 with 1 Axes>"
            ],
            "image/png": "[encoded data removed]"
          },
          "metadata": {}
        }
      ]
    },
    {
      "cell_type": "code",
      "source": [
        "import matplotlib.pyplot as plt\n",
        "\n",
        "plt.plot(range(1, len(mae_history) + 1), mae_history)\n",
        "plt.xlabel('Epochs')\n",
        "plt.ylabel('Validación MAE')\n",
        "plt.show()"
      ],
      "metadata": {
        "id": "92roMX5PD0yo",
        "outputId": "1506fb92-9423-42b7-cadf-e1dc2a9e541c",
        "colab": {
          "base_uri": "https://localhost:8080/",
          "height": 449
        }
      },
      "id": "92roMX5PD0yo",
      "execution_count": 34,
      "outputs": [
        {
          "output_type": "display_data",
          "data": {
            "text/plain": [
              "<Figure size 640x480 with 1 Axes>"
            ],
            "image/png": "[encoded data removed]"
          },
          "metadata": {}
        }
      ]
    },
    {
      "cell_type": "code",
      "source": [
        "import matplotlib.pyplot as plt\n",
        "\n",
        "loss = history.history['mean_absolute_error']\n",
        "val_loss = history.history['val_mean_absolute_error']\n",
        "\n",
        "epochs = range(1, len(loss) + 1)\n",
        "\n",
        "plt.plot(epochs, loss, 'bo', label='Pérdida del entreno')\n",
        "plt.plot(epochs, val_loss, 'b', label='Pérdida de la validación')\n",
        "plt.title('Perdidas del entreno y la validación')\n",
        "plt.xlabel('Épocas')\n",
        "plt.ylabel('Pérdida')\n",
        "plt.legend()\n",
        "\n",
        "plt.show()"
      ],
      "metadata": {
        "id": "KrS5-O-ZEEW1",
        "outputId": "a78818fa-3cf2-491e-80d3-7d649bcca54a",
        "colab": {
          "base_uri": "https://localhost:8080/",
          "height": 474
        }
      },
      "id": "KrS5-O-ZEEW1",
      "execution_count": 35,
      "outputs": [
        {
          "output_type": "display_data",
          "data": {
            "text/plain": [
              "<Figure size 640x480 with 1 Axes>"
            ],
            "image/png": "[encoded data removed]"
          },
          "metadata": {}
        }
      ]
    },
    {
      "cell_type": "markdown",
      "source": [
        "Después de haber entrenado este nuevo modelo, se verifica que con 20 épocas no se presenta sobreajuste y que los valores de la métrica de interés son muy similares al finalizar la época 20, comparados con los obtenidos al finalizar la época 100 en el modelo anterior.\n",
        "- Val_mean_absolute_error en la época 100 del modelo 1: 0.08\n",
        "- Val_mean_absolute_error en la época 20 del modelo 2: 0.19\n",
        "\n",
        "Como se puede observar, la diferencia es prácticamente insignificante."
      ],
      "metadata": {
        "id": "sFiFkyAHY2ft"
      },
      "id": "sFiFkyAHY2ft"
    },
    {
      "cell_type": "markdown",
      "source": [
        "Tras determinar el número óptimo de épocas y definir el modelo de red adecuado para abordar este problema, se ha optado por implementar el método k-fold cross-validation para mejorar las métricas del modelo obtenido.\n",
        "\n",
        "Este método implica dividir los datos de entrenamiento en 4 partes iguales durante 4 iteraciones. En cada iteración, una de las partes se utiliza como conjunto de validación mientras que las otras tres partes se utilizan como datos de entrenamiento. Esto asegura una mayor diversidad en los datos de validación y entrenamiento a lo largo de las iteraciones."
      ],
      "metadata": {
        "id": "3KojvmXJZisi"
      },
      "id": "3KojvmXJZisi"
    },
    {
      "cell_type": "code",
      "source": [
        "import numpy as np\n",
        "\n",
        "k = 4\n",
        "num_val_samples = len(train_datos) // k\n",
        "print(\"num_val_samples\", num_val_samples)\n",
        "num_epochs = 20\n",
        "all_scores = []\n",
        "for i in range(k):\n",
        "    print('processing fold #', i)\n",
        "    print(\"Uso para validar el siguiente rango de datos de entrenamiento -> [\",(i * num_val_samples),\":\",((i + 1) * num_val_samples),\"]\")\n",
        "    val_data = train_datos[i * num_val_samples: (i + 1) * num_val_samples]\n",
        "    val_targets = train_labels[i * num_val_samples: (i + 1) * num_val_samples]\n",
        "    print(\"Uso para entrenar el siguiente rango de datos de entrenamiento -> [0:\",(i * num_val_samples),\"]U[\",(i + 1) * num_val_samples,\":\",len(train_datos),\"]\")\n",
        "    partial_train_data = np.concatenate(\n",
        "        [train_datos[:i * num_val_samples],\n",
        "         train_datos[(i + 1) * num_val_samples:]],\n",
        "        axis=0)\n",
        "    partial_train_targets = np.concatenate(\n",
        "        [train_labels[:i * num_val_samples],\n",
        "         train_labels[(i + 1) * num_val_samples:]],\n",
        "        axis=0)\n",
        "    model = build_model()\n",
        "    model.fit(partial_train_data, partial_train_targets,\n",
        "              epochs=num_epochs, batch_size=128, verbose=0)\n",
        "    val_mse, val_mae = model.evaluate(val_data, val_targets, verbose=0)\n",
        "    all_scores.append(val_mae)"
      ],
      "metadata": {
        "id": "EHP6j4iyFl0o",
        "outputId": "620d718a-7c3b-445f-bf0d-d715ac70b48d",
        "colab": {
          "base_uri": "https://localhost:8080/"
        }
      },
      "id": "EHP6j4iyFl0o",
      "execution_count": 36,
      "outputs": [
        {
          "output_type": "stream",
          "name": "stdout",
          "text": [
            "num_val_samples 17500\n",
            "processing fold # 0\n",
            "Uso para validar el siguiente rango de datos de entrenamiento -> [ 0 : 17500 ]\n",
            "Uso para entrenar el siguiente rango de datos de entrenamiento -> [0: 0 ]U[ 17500 : 70000 ]\n",
            "processing fold # 1\n",
            "Uso para validar el siguiente rango de datos de entrenamiento -> [ 17500 : 35000 ]\n",
            "Uso para entrenar el siguiente rango de datos de entrenamiento -> [0: 17500 ]U[ 35000 : 70000 ]\n",
            "processing fold # 2\n",
            "Uso para validar el siguiente rango de datos de entrenamiento -> [ 35000 : 52500 ]\n",
            "Uso para entrenar el siguiente rango de datos de entrenamiento -> [0: 35000 ]U[ 52500 : 70000 ]\n",
            "processing fold # 3\n",
            "Uso para validar el siguiente rango de datos de entrenamiento -> [ 52500 : 70000 ]\n",
            "Uso para entrenar el siguiente rango de datos de entrenamiento -> [0: 52500 ]U[ 70000 : 70000 ]\n"
          ]
        }
      ]
    },
    {
      "cell_type": "markdown",
      "source": [
        "Se muestran los diversos valores de error medio absoluto de validación obtenidos en cada una de las iteraciones"
      ],
      "metadata": {
        "id": "9t9mVgvuejZY"
      },
      "id": "9t9mVgvuejZY"
    },
    {
      "cell_type": "code",
      "source": [
        "all_scores"
      ],
      "metadata": {
        "id": "endubuNzFvZx",
        "outputId": "04a37a86-0912-44bf-c6a1-b0e3344c5cdd",
        "colab": {
          "base_uri": "https://localhost:8080/"
        }
      },
      "id": "endubuNzFvZx",
      "execution_count": 37,
      "outputs": [
        {
          "output_type": "execute_result",
          "data": {
            "text/plain": [
              "[0.25394997000694275,\n",
              " 0.1882592886686325,\n",
              " 0.32748889923095703,\n",
              " 0.18568260967731476]"
            ]
          },
          "metadata": {},
          "execution_count": 37
        }
      ]
    },
    {
      "cell_type": "markdown",
      "source": [
        "Se realiza la media de los datos obtenidos en el apartado anterior con el fin de conocer el verdadero error medio absoluto del nuevo modelo en el cual se emplean los k-folds."
      ],
      "metadata": {
        "id": "isGsLhF-e576"
      },
      "id": "isGsLhF-e576"
    },
    {
      "cell_type": "code",
      "source": [
        "np.mean(all_scores)"
      ],
      "metadata": {
        "id": "g3pAnq6aFvYF",
        "outputId": "98a9f3a5-dba4-4cb9-fe6a-c94bc635199f",
        "colab": {
          "base_uri": "https://localhost:8080/"
        }
      },
      "id": "g3pAnq6aFvYF",
      "execution_count": 38,
      "outputs": [
        {
          "output_type": "execute_result",
          "data": {
            "text/plain": [
              "0.23884519189596176"
            ]
          },
          "metadata": {},
          "execution_count": 38
        }
      ]
    },
    {
      "cell_type": "code",
      "source": [
        "from keras import backend as K\n",
        "K.clear_session()"
      ],
      "metadata": {
        "id": "uk1hA2cbFvU7"
      },
      "id": "uk1hA2cbFvU7",
      "execution_count": 39,
      "outputs": []
    },
    {
      "cell_type": "markdown",
      "source": [
        "A continuación, se procede a repetir el proceso de k-fold cross-validation con un número mayor de épocas para determinar cuál es el número adecuado de épocas de entrenamiento. En este caso, se registrarán los valores de MAE (Mean Absolute Error) en cada época para poder generar una gráfica que nos permita visualizar claramente el número óptimo de épocas a emplear."
      ],
      "metadata": {
        "id": "AKfAIk_giNF9"
      },
      "id": "AKfAIk_giNF9"
    },
    {
      "cell_type": "code",
      "source": [
        "num_epochs = 60\n",
        "all_mae_histories = []\n",
        "for i in range(k):\n",
        "    print('processing fold #', i)\n",
        "    print(\"Uso para validar el siguiente rango de datos de entrenamiento -> [\",(i * num_val_samples),\":\",((i + 1) * num_val_samples),\"]\")\n",
        "    val_data = train_datos[i * num_val_samples: (i + 1) * num_val_samples]\n",
        "    val_targets = train_labels[i * num_val_samples: (i + 1) * num_val_samples]\n",
        "    print(\"Uso para entrenar el siguiente rango de datos de entrenamiento -> [0:\",(i * num_val_samples),\"]U[\",(i + 1) * num_val_samples,\":\",len(train_datos),\"]\")\n",
        "    partial_train_data = np.concatenate(\n",
        "        [train_datos[:i * num_val_samples],\n",
        "         train_datos[(i + 1) * num_val_samples:]],\n",
        "        axis=0)\n",
        "    partial_train_targets = np.concatenate(\n",
        "        [train_labels[:i * num_val_samples],\n",
        "         train_labels[(i + 1) * num_val_samples:]],\n",
        "        axis=0)\n",
        "    model = build_model()\n",
        "    history = model.fit(partial_train_data, partial_train_targets,\n",
        "                        validation_data=(val_data, val_targets),\n",
        "                        epochs=num_epochs, batch_size=128, verbose=0)\n",
        "    mae_history = history.history['val_mean_absolute_error']\n",
        "    all_mae_histories.append(mae_history)"
      ],
      "metadata": {
        "id": "aJlIOP07FvTT",
        "outputId": "fc889eeb-5286-4189-ab94-e16dfee9df8b",
        "colab": {
          "base_uri": "https://localhost:8080/"
        }
      },
      "id": "aJlIOP07FvTT",
      "execution_count": 40,
      "outputs": [
        {
          "output_type": "stream",
          "name": "stdout",
          "text": [
            "processing fold # 0\n",
            "Uso para validar el siguiente rango de datos de entrenamiento -> [ 0 : 17500 ]\n",
            "Uso para entrenar el siguiente rango de datos de entrenamiento -> [0: 0 ]U[ 17500 : 70000 ]\n",
            "processing fold # 1\n",
            "Uso para validar el siguiente rango de datos de entrenamiento -> [ 17500 : 35000 ]\n",
            "Uso para entrenar el siguiente rango de datos de entrenamiento -> [0: 17500 ]U[ 35000 : 70000 ]\n",
            "processing fold # 2\n",
            "Uso para validar el siguiente rango de datos de entrenamiento -> [ 35000 : 52500 ]\n",
            "Uso para entrenar el siguiente rango de datos de entrenamiento -> [0: 35000 ]U[ 52500 : 70000 ]\n",
            "processing fold # 3\n",
            "Uso para validar el siguiente rango de datos de entrenamiento -> [ 52500 : 70000 ]\n",
            "Uso para entrenar el siguiente rango de datos de entrenamiento -> [0: 52500 ]U[ 70000 : 70000 ]\n"
          ]
        }
      ]
    },
    {
      "cell_type": "markdown",
      "source": [
        "Se hace la media en cada una de las épocas usando los datos de mae de cada una de las 4 iteraciones realizadas durante el proceso de k-folds"
      ],
      "metadata": {
        "id": "dWwW_d2QixiB"
      },
      "id": "dWwW_d2QixiB"
    },
    {
      "cell_type": "code",
      "source": [
        "average_mae_history = [\n",
        "    np.mean([x[i] for x in all_mae_histories]) for i in range(num_epochs)]"
      ],
      "metadata": {
        "id": "AxgQSQKyFu6w"
      },
      "id": "AxgQSQKyFu6w",
      "execution_count": 41,
      "outputs": []
    },
    {
      "cell_type": "code",
      "source": [
        "import matplotlib.pyplot as plt\n",
        "\n",
        "plt.plot(range(1, len(average_mae_history) + 1), average_mae_history)\n",
        "plt.xlabel('Epochs')\n",
        "plt.ylabel('Validación MAE')\n",
        "plt.show()"
      ],
      "metadata": {
        "id": "A5aVTkV1F9qh",
        "outputId": "1e4f8da0-386f-400a-d63d-0e27ab563cd3",
        "colab": {
          "base_uri": "https://localhost:8080/",
          "height": 449
        }
      },
      "id": "A5aVTkV1F9qh",
      "execution_count": 42,
      "outputs": [
        {
          "output_type": "display_data",
          "data": {
            "text/plain": [
              "<Figure size 640x480 with 1 Axes>"
            ],
            "image/png": "[encoded data removed]"
          },
          "metadata": {}
        }
      ]
    },
    {
      "cell_type": "code",
      "source": [
        "def smooth_curve(points, factor=0.9):\n",
        "  smoothed_points = []\n",
        "  for point in points:\n",
        "    if smoothed_points:\n",
        "      previous = smoothed_points[-1]\n",
        "      smoothed_points.append(previous * factor + point * (1 - factor))\n",
        "    else:\n",
        "      smoothed_points.append(point)\n",
        "  return smoothed_points\n",
        "\n",
        "smooth_mae_history = smooth_curve(average_mae_history[0:])\n",
        "\n",
        "plt.plot(range(1, len(smooth_mae_history) + 1), smooth_mae_history)\n",
        "plt.xlabel('Repeticiones')\n",
        "plt.ylabel('MAE de validación')\n",
        "plt.show()"
      ],
      "metadata": {
        "id": "O2b5E7LMGBwT",
        "outputId": "e8909b27-7e74-4858-b954-bbe38ebe4fd1",
        "colab": {
          "base_uri": "https://localhost:8080/",
          "height": 449
        }
      },
      "id": "O2b5E7LMGBwT",
      "execution_count": 43,
      "outputs": [
        {
          "output_type": "display_data",
          "data": {
            "text/plain": [
              "<Figure size 640x480 with 1 Axes>"
            ],
            "image/png": "[encoded data removed]"
          },
          "metadata": {}
        }
      ]
    },
    {
      "cell_type": "markdown",
      "source": [
        "Observando ambas gráficas obtenidas, se puede confirmar que, al igual que en los modelos sin utilizar k-folds, un número adecuado de épocas serían 20. A partir de este punto, la mejora en el modelo es mínima y conllevaría un incremento innecesario en el costo computacional."
      ],
      "metadata": {
        "id": "IR6KPp4Di7ku"
      },
      "id": "IR6KPp4Di7ku"
    },
    {
      "cell_type": "markdown",
      "source": [
        "Finalmente, se implementa el modelo con los hiperparámetros que se han determinado como óptimos después de realizar diversos estudios. El objetivo es evaluar el rendimiento de este modelo utilizando los datos de prueba."
      ],
      "metadata": {
        "id": "ip4MUsRtjQ-_"
      },
      "id": "ip4MUsRtjQ-_"
    },
    {
      "cell_type": "code",
      "source": [
        "model = build_model()\n",
        "model.fit(train_datos, train_labels,\n",
        "          epochs=20, batch_size=128, verbose=0)\n",
        "test_mse_score, test_mae_score = model.evaluate(test_datos, test_labels )"
      ],
      "metadata": {
        "id": "BHMLgKEXGFgN",
        "outputId": "bdebe20b-c4f8-4eb2-cd12-a8d2064a9d7a",
        "colab": {
          "base_uri": "https://localhost:8080/"
        }
      },
      "id": "BHMLgKEXGFgN",
      "execution_count": 44,
      "outputs": [
        {
          "output_type": "stream",
          "name": "stdout",
          "text": [
            "811/811 [==============================] - 1s 2ms/step - loss: 0.0650 - mean_absolute_error: 0.2123\n"
          ]
        }
      ]
    },
    {
      "cell_type": "markdown",
      "source": [
        "Dado que la métrica utilizada para evaluar este problema es el error medio absoluto, se presenta el valor de este error medio absoluto después de evaluar el modelo con los datos de prueba."
      ],
      "metadata": {
        "id": "nIr-ItuvkU4J"
      },
      "id": "nIr-ItuvkU4J"
    },
    {
      "cell_type": "code",
      "source": [
        "test_mae_score"
      ],
      "metadata": {
        "id": "0aK6YiEAGHt8",
        "outputId": "c416855e-d9b8-44fb-d4f3-9289dd2b49c9",
        "colab": {
          "base_uri": "https://localhost:8080/"
        }
      },
      "id": "0aK6YiEAGHt8",
      "execution_count": 45,
      "outputs": [
        {
          "output_type": "execute_result",
          "data": {
            "text/plain": [
              "0.21228691935539246"
            ]
          },
          "metadata": {},
          "execution_count": 45
        }
      ]
    },
    {
      "cell_type": "markdown",
      "source": [
        "# CONCLUSIONES Y TRABAJO FUTURO"
      ],
      "metadata": {
        "id": "S5ixDocokkUU"
      },
      "id": "S5ixDocokkUU"
    },
    {
      "cell_type": "markdown",
      "source": [
        "Tras realizar diversos estudios para desarrollar el modelo adecuado para el proyecto propuesto, se pueden extraer las siguientes conclusiones:\n",
        "\n",
        "En el caso de un modelo de regresión con una gran cantidad de datos, como el presente, no es necesario aplicar el método de k-folds, ya que no mejora las métricas de validación obtenidas en los modelos sin utilizar este método.\n",
        "\n",
        "Es crucial determinar el número óptimo de épocas para entrenar el modelo en los modelos de regresión. A menudo, aunque el error medio absoluto continúe disminuyendo, la reducción es mínima, lo que hace que no sea rentable entrenar el modelo durante más épocas para obtener mejoras muy pequeñas.\n",
        "\n",
        "En cuanto a la evaluación del proyecto en sí mismo, se han alcanzado resultados muy satisfactorios. El modelo final, evaluado con los datos de prueba, muestra un error medio absoluto de 0.259. Esto indica que las predicciones de temperatura del modelo son precisas, considerando que el rango de temperaturas en los datos va desde -21.8°C hasta 39.9°C, lo cual abarca un rango de 62 grados centígrados. Por lo tanto, el error medio absoluto representa solo un 0.05% de este amplio rango.\n",
        "\n",
        "En cuanto a futuras líneas de trabajo para el proyecto, se podría considerar la creación de una base de datos con registros de múltiples ubicaciones. Esto implicaría incorporar una nueva característica en los datos de entrada que categorice cada registro según su ubicación, lo que permitiría conocer simultáneamente la temperatura en varios lugares.\n",
        "\n",
        "Otra posibilidad sería introducir una característica de fecha para poder predecir tanto la temperatura mínima como máxima en un lugar en un día específico, no solo la temperatura en un momento dado."
      ],
      "metadata": {
        "id": "jcrsQ2Y8jklj"
      },
      "id": "jcrsQ2Y8jklj"
    }
  ],
  "metadata": {
    "kernelspec": {
      "display_name": "Python 3 (ipykernel)",
      "language": "python",
      "name": "python3"
    },
    "language_info": {
      "codemirror_mode": {
        "name": "ipython",
        "version": 3
      },
      "file_extension": ".py",
      "mimetype": "text/x-python",
      "name": "python",
      "nbconvert_exporter": "python",
      "pygments_lexer": "ipython3",
      "version": "3.8.8"
    },
    "colab": {
      "provenance": []
    }
  },
  "nbformat": 4,
  "nbformat_minor": 5
}